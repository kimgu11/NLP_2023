{
  "nbformat": 4,
  "nbformat_minor": 0,
  "metadata": {
    "colab": {
      "provenance": [],
      "authorship_tag": "ABX9TyPxju0nxVGmuSqyTUCeLCgG",
      "include_colab_link": true
    },
    "kernelspec": {
      "name": "python3",
      "display_name": "Python 3"
    },
    "language_info": {
      "name": "python"
    }
  },
  "cells": [
    {
      "cell_type": "markdown",
      "metadata": {
        "id": "view-in-github",
        "colab_type": "text"
      },
      "source": [
        "<a href=\"https://colab.research.google.com/github/kimgu11/NLP_2023/blob/main/example/1week.ipynb\" target=\"_parent\"><img src=\"https://colab.research.google.com/assets/colab-badge.svg\" alt=\"Open In Colab\"/></a>"
      ]
    },
    {
      "cell_type": "markdown",
      "source": [
        "문제 1: 사용자로부터 이름을 입력받고, \"안녕하세요, [이름]님!\"을 출력하는 파이썬 프로그램을 작성하세요.\n",
        "\n",
        "문제 2: 사용자로부터 두 개의 숫자를 입력받고, 이 숫자를 더한 결과를 출력하세요.\n",
        "\n",
        "문제 3: 1부터 10까지의 숫자를 반복문을 사용하여 출력하세요.\n",
        "\n",
        "문제 4: 1부터 100까지의 숫자 중에서 짝수만 출력하세요.\n",
        "\n",
        "문제 5: 사용자로부터 정수를 입력받고, 그 숫자가 홀수인지 짝수인지 판별하여 출력하세요.\n",
        "\n",
        "문제 6: 다음 리스트에서 중복된 항목을 제거하세요: [1, 2, 2, 3, 4, 4, 5]\n",
        "\n",
        "문제 7: 1부터 100까지의 숫자 중에서 3의 배수인 숫자만 출력하세요.\n",
        "\n",
        "문제 8: 사용자로부터 문자열을 입력받고, 그 문자열을 거꾸로 출력하세요.\n",
        "\n",
        "문제 9: 다음 리스트를 오름차순으로 정렬하세요: [5, 2, 9, 1, 5, 6]\n",
        "\n",
        "문제 10: 다음 딕셔너리에서 값이 18인 키(key)를 찾아 출력하세요: {\"Alice\": 25, \"Bob\": 18, \"Charlie\": 30}"
      ],
      "metadata": {
        "id": "hscfEa0XV_Hw"
      }
    },
    {
      "cell_type": "code",
      "source": [
        "#문제 1: 사용자로부터 이름을 입력받고, \"안녕하세요, [이름]님!\"을 출력하는 파이썬 프로그램을 작성하세요.\n",
        "name = ''\n",
        "name = input()\n",
        "\n",
        "print(name,'님!')"
      ],
      "metadata": {
        "colab": {
          "base_uri": "https://localhost:8080/"
        },
        "id": "2sSpudD9WBVw",
        "outputId": "41edc40d-c3d1-4aeb-a659-be05a7a0ce42"
      },
      "execution_count": null,
      "outputs": [
        {
          "output_type": "stream",
          "name": "stdout",
          "text": [
            "민구\n",
            "민구 님!\n"
          ]
        }
      ]
    },
    {
      "cell_type": "code",
      "source": [
        "#문제 2: 사용자로부터 두 개의 숫자를 입력받고, 이 숫자를 더한 결과를 출력하세요.\n",
        "num1 = float(input('숫자를 입력하시오:'))\n",
        "num2 = float(input('숫자를 입력하시오:'))\n",
        "\n",
        "result = num1 + num2\n",
        "\n",
        "print(result)"
      ],
      "metadata": {
        "colab": {
          "base_uri": "https://localhost:8080/"
        },
        "id": "qNsegytEWcTZ",
        "outputId": "a63be135-64bb-4ca9-ac43-aa8f206ba24f"
      },
      "execution_count": null,
      "outputs": [
        {
          "output_type": "stream",
          "name": "stdout",
          "text": [
            "숫자를 입력하시오:2\n",
            "숫자를 입력하시오:3\n",
            "5\n"
          ]
        }
      ]
    },
    {
      "cell_type": "code",
      "source": [
        "#문제 3: 1부터 10까지의 숫자를 반복문을 사용하여 출력하세요.\n",
        "\n",
        "for i in range(11):\n",
        "  if i == 0:\n",
        "    continue\n",
        "  else:\n",
        "    print(i)"
      ],
      "metadata": {
        "colab": {
          "base_uri": "https://localhost:8080/"
        },
        "id": "jt_uk4MyW3SP",
        "outputId": "6945662f-9848-437d-f25f-e8e63cc641ca"
      },
      "execution_count": null,
      "outputs": [
        {
          "output_type": "stream",
          "name": "stdout",
          "text": [
            "1\n",
            "2\n",
            "3\n",
            "4\n",
            "5\n",
            "6\n",
            "7\n",
            "8\n",
            "9\n",
            "10\n"
          ]
        }
      ]
    },
    {
      "cell_type": "code",
      "source": [
        "#문제 4: 1부터 100까지의 숫자 중에서 짝수만 출력하세요.\n",
        "\n",
        "for i in range(101):\n",
        "  if i % 2 == 0 and i != 0:\n",
        "    print(i)\n",
        "\n",
        "  else:\n",
        "    continue"
      ],
      "metadata": {
        "colab": {
          "base_uri": "https://localhost:8080/"
        },
        "id": "jGCf2soaYyId",
        "outputId": "1206126f-82a3-48ec-c2ec-599052af6421"
      },
      "execution_count": null,
      "outputs": [
        {
          "output_type": "stream",
          "name": "stdout",
          "text": [
            "2\n",
            "4\n",
            "6\n",
            "8\n",
            "10\n",
            "12\n",
            "14\n",
            "16\n",
            "18\n",
            "20\n",
            "22\n",
            "24\n",
            "26\n",
            "28\n",
            "30\n",
            "32\n",
            "34\n",
            "36\n",
            "38\n",
            "40\n",
            "42\n",
            "44\n",
            "46\n",
            "48\n",
            "50\n",
            "52\n",
            "54\n",
            "56\n",
            "58\n",
            "60\n",
            "62\n",
            "64\n",
            "66\n",
            "68\n",
            "70\n",
            "72\n",
            "74\n",
            "76\n",
            "78\n",
            "80\n",
            "82\n",
            "84\n",
            "86\n",
            "88\n",
            "90\n",
            "92\n",
            "94\n",
            "96\n",
            "98\n",
            "100\n"
          ]
        }
      ]
    },
    {
      "cell_type": "code",
      "source": [
        "#문제 5: 사용자로부터 정수를 입력받고, 그 숫자가 홀수인지 짝수인지 판별하여 출력하세요.\n",
        "try:\n",
        "  num = int(input('정수를 입력하시오:'))\n",
        "\n",
        "  if num % 2 == 0:\n",
        "    print('입력하신 숫자는',num,'이며 짝수입니다.')\n",
        "\n",
        "  else:\n",
        "    print('입력하신 숫자는',num,'이며 홀수입니다.')\n",
        "\n",
        "except:\n",
        "  print('정수가 아닌 값을 입력하셨습니다.')\n",
        "\n",
        "\n"
      ],
      "metadata": {
        "colab": {
          "base_uri": "https://localhost:8080/"
        },
        "id": "9CsRrRJRZHh7",
        "outputId": "7c725401-3f91-44d1-bd1c-3c401dcfb8c2"
      },
      "execution_count": null,
      "outputs": [
        {
          "output_type": "stream",
          "name": "stdout",
          "text": [
            "정수를 입력하시오:123.123\n",
            "정수가 아닌 값을 입력하셨습니다.\n"
          ]
        }
      ]
    },
    {
      "cell_type": "code",
      "source": [
        "#문제 6: 다음 리스트에서 중복된 항목을 제거하세요: [1, 2, 2, 3, 4, 4, 5]\n",
        "list_data = [1,2,2,3,4,4,5]\n",
        "\n",
        "set_list = list(set(list_data))\n",
        "\n",
        "print(set_list)"
      ],
      "metadata": {
        "colab": {
          "base_uri": "https://localhost:8080/"
        },
        "id": "_euTyWm7Zn8B",
        "outputId": "7f1801ae-672b-4860-e95b-4970bd3468c5"
      },
      "execution_count": null,
      "outputs": [
        {
          "output_type": "stream",
          "name": "stdout",
          "text": [
            "[1, 2, 3, 4, 5]\n"
          ]
        }
      ]
    },
    {
      "cell_type": "code",
      "source": [
        "#문제 7: 1부터 100까지의 숫자 중에서 3의 배수인 숫자만 출력하세요.\n",
        "for i in range(1,101):\n",
        "  if i % 3 == 0:\n",
        "    print(i)"
      ],
      "metadata": {
        "colab": {
          "base_uri": "https://localhost:8080/"
        },
        "id": "xgLyrrlpQU9L",
        "outputId": "43e9e7f4-e9b7-4258-f539-7dc8e395a8a0"
      },
      "execution_count": null,
      "outputs": [
        {
          "output_type": "stream",
          "name": "stdout",
          "text": [
            "3\n",
            "6\n",
            "9\n",
            "12\n",
            "15\n",
            "18\n",
            "21\n",
            "24\n",
            "27\n",
            "30\n",
            "33\n",
            "36\n",
            "39\n",
            "42\n",
            "45\n",
            "48\n",
            "51\n",
            "54\n",
            "57\n",
            "60\n",
            "63\n",
            "66\n",
            "69\n",
            "72\n",
            "75\n",
            "78\n",
            "81\n",
            "84\n",
            "87\n",
            "90\n",
            "93\n",
            "96\n",
            "99\n"
          ]
        }
      ]
    },
    {
      "cell_type": "code",
      "source": [
        "#문제 8: 사용자로부터 문자열을 입력받고, 그 문자열을 거꾸로 출력하세요.\n",
        "\n",
        "str1 = str(input())\n",
        "\n",
        "reverce = str1[::-1]\n",
        "\n",
        "print(reverce)\n",
        "\n"
      ],
      "metadata": {
        "colab": {
          "base_uri": "https://localhost:8080/"
        },
        "id": "kLp-9xOAYKc_",
        "outputId": "27af1f26-4fc6-4364-df06-579eb3808e78"
      },
      "execution_count": null,
      "outputs": [
        {
          "output_type": "stream",
          "name": "stdout",
          "text": [
            "weafeawfed\n",
            "defwaefaew\n"
          ]
        }
      ]
    },
    {
      "cell_type": "code",
      "source": [
        "#문제 9: 다음 리스트를 오름차순으로 정렬하세요: [5, 2, 9, 1, 5, 6]\n",
        "\n",
        "arr = [5,2,9,1,5,6]\n",
        "\n",
        "list.sort(arr)\n",
        "\n",
        "print(arr)"
      ],
      "metadata": {
        "colab": {
          "base_uri": "https://localhost:8080/"
        },
        "id": "0TW_hNDDZXkv",
        "outputId": "e59ca020-25e1-4091-cefe-672960fb8301"
      },
      "execution_count": null,
      "outputs": [
        {
          "output_type": "stream",
          "name": "stdout",
          "text": [
            "[1, 2, 5, 5, 6, 9]\n"
          ]
        }
      ]
    },
    {
      "cell_type": "code",
      "source": [
        "#문제 10: 다음 딕셔너리에서 값이 18인 키(key)를 찾아 출력하세요: {\"Alice\": 25, \"Bob\": 18, \"Charlie\": 30}\n",
        "\n",
        "dict_data = {\"Alice\": 25, \"Bob\": 18, \"Charlie\": 30}\n",
        "[k for k, v in dict_data.items() if v == 18]\n"
      ],
      "metadata": {
        "colab": {
          "base_uri": "https://localhost:8080/"
        },
        "id": "V5nzniGyaZ_m",
        "outputId": "c6643589-a81e-4b98-b1a1-0f63d35e8ffa"
      },
      "execution_count": null,
      "outputs": [
        {
          "output_type": "execute_result",
          "data": {
            "text/plain": [
              "['Bob']"
            ]
          },
          "metadata": {},
          "execution_count": 13
        }
      ]
    },
    {
      "cell_type": "code",
      "source": [],
      "metadata": {
        "id": "BSDP62q2axN3"
      },
      "execution_count": null,
      "outputs": []
    }
  ]
}