{
  "nbformat": 4,
  "nbformat_minor": 0,
  "metadata": {
    "colab": {
      "provenance": [],
      "authorship_tag": "ABX9TyPbKu0QqiPI/3CErEqVT1Rh",
      "include_colab_link": true
    },
    "kernelspec": {
      "name": "python3",
      "display_name": "Python 3"
    },
    "language_info": {
      "name": "python"
    }
  },
  "cells": [
    {
      "cell_type": "markdown",
      "metadata": {
        "id": "view-in-github",
        "colab_type": "text"
      },
      "source": [
        "<a href=\"https://colab.research.google.com/github/kimgu11/NLP_2023/blob/main/example/Generate_input_data.ipynb\" target=\"_parent\"><img src=\"https://colab.research.google.com/assets/colab-badge.svg\" alt=\"Open In Colab\"/></a>"
      ]
    },
    {
      "cell_type": "code",
      "execution_count": null,
      "metadata": {
        "id": "IayBFmCejS7x"
      },
      "outputs": [],
      "source": [
        "import time\n",
        "import random\n",
        "import copy\n",
        "\n",
        "# 함수와 인자들을 받아서 func() 함수의 수행 시간을 측정\n",
        "def get_exec_time(func, *args, **kwargs):\n",
        "    start_time = time.time()\n",
        "    result = func(*args, **kwargs)\n",
        "    #print(result)\n",
        "    elapsed_time_ms = (time.time() - start_time) * 1000\n",
        "    return elapsed_time_ms"
      ]
    },
    {
      "cell_type": "code",
      "source": [
        "# NxM test set을 만든다.\n",
        "def generate_input(n, m):\n",
        "    T0 = [x for x in range(1, n + 1)]\n",
        "    T1 = list(reversed(T0))\n",
        "    result = [T0, T1]\n",
        "\n",
        "    for _ in range(M-2):\n",
        "        t = T0[:]\n",
        "        random.shuffle(t)\n",
        "        result.append(t)\n",
        "\n",
        "    return result"
      ],
      "metadata": {
        "id": "baqclR3rjjmq"
      },
      "execution_count": null,
      "outputs": []
    },
    {
      "cell_type": "code",
      "source": [
        "def bubble_sort(arr, n, print_process):\n",
        "    if print_process:\n",
        "        print(\"<Bubble Sort>\")\n",
        "        print(arr)\n",
        "\n",
        "    # for (int last = n-1; last > 0; last--)\n",
        "    for last in range(n-1, 0, -1):\n",
        "        for i in range(last):\n",
        "            if arr[i] > arr[i+1]:\n",
        "                tmp = arr[i]\n",
        "                arr[i] = arr[i+1]\n",
        "                arr[i+1] = tmp\n",
        "\n",
        "        if print_process:\n",
        "            print(arr)"
      ],
      "metadata": {
        "id": "zCO9MdzBjmLY"
      },
      "execution_count": null,
      "outputs": []
    }
  ]
}