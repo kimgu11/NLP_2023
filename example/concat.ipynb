{
  "nbformat": 4,
  "nbformat_minor": 0,
  "metadata": {
    "colab": {
      "provenance": [],
      "authorship_tag": "ABX9TyPyadxev4Z53eKHCKjAq9MU",
      "include_colab_link": true
    },
    "kernelspec": {
      "name": "python3",
      "display_name": "Python 3"
    },
    "language_info": {
      "name": "python"
    }
  },
  "cells": [
    {
      "cell_type": "markdown",
      "metadata": {
        "id": "view-in-github",
        "colab_type": "text"
      },
      "source": [
        "<a href=\"https://colab.research.google.com/github/kimgu11/NLP_2023/blob/main/example/concat.ipynb\" target=\"_parent\"><img src=\"https://colab.research.google.com/assets/colab-badge.svg\" alt=\"Open In Colab\"/></a>"
      ]
    },
    {
      "cell_type": "code",
      "source": [
        "def concat(left, right): #반복문\n",
        "    result = left[:]\n",
        "    for x in right:\n",
        "        result.append(x)\n",
        "    return result"
      ],
      "metadata": {
        "id": "hz8zQEMliOB9"
      },
      "execution_count": 4,
      "outputs": []
    },
    {
      "cell_type": "code",
      "source": [
        "left = [1, 2, 3, 4, 5]\n",
        "right = [6, 7, 8, 9, 10]\n",
        "result = []"
      ],
      "metadata": {
        "id": "zHU2sVediuSo"
      },
      "execution_count": 5,
      "outputs": []
    },
    {
      "cell_type": "code",
      "source": [
        "def concat_rec(left, right, result):  #재귀함수\n",
        "    if len(right) == 0:\n",
        "        return result\n",
        "    else:\n",
        "        if len(left) == 0:\n",
        "            result.append(right[0])\n",
        "            return concat_rec(left, right[1:], result)\n",
        "        else:\n",
        "            result.append(left[0])\n",
        "            return concat_rec(left[1:], right, result)"
      ],
      "metadata": {
        "id": "-1iWlaY8ivPI"
      },
      "execution_count": 6,
      "outputs": []
    },
    {
      "cell_type": "code",
      "source": [
        "print(concat(left, right))\n",
        "print(concat_rec(left, right, result))\n",
        "print(left)\n",
        "print(right)"
      ],
      "metadata": {
        "colab": {
          "base_uri": "https://localhost:8080/"
        },
        "id": "MBxRfTf1iwUO",
        "outputId": "69ef5c04-301b-4f69-f026-2914e11cf03b"
      },
      "execution_count": 7,
      "outputs": [
        {
          "output_type": "stream",
          "name": "stdout",
          "text": [
            "[1, 2, 3, 4, 5, 6, 7, 8, 9, 10]\n",
            "[1, 2, 3, 4, 5, 6, 7, 8, 9, 10]\n",
            "[1, 2, 3, 4, 5]\n",
            "[6, 7, 8, 9, 10]\n"
          ]
        }
      ]
    },
    {
      "cell_type": "code",
      "source": [],
      "metadata": {
        "id": "Vj3i5qtYixTD"
      },
      "execution_count": null,
      "outputs": []
    }
  ]
}