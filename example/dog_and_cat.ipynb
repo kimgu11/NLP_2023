{
  "nbformat": 4,
  "nbformat_minor": 0,
  "metadata": {
    "colab": {
      "provenance": [],
      "authorship_tag": "ABX9TyPWFwkCeEd9s6at0Wmtp1N7",
      "include_colab_link": true
    },
    "kernelspec": {
      "name": "python3",
      "display_name": "Python 3"
    },
    "language_info": {
      "name": "python"
    }
  },
  "cells": [
    {
      "cell_type": "markdown",
      "metadata": {
        "id": "view-in-github",
        "colab_type": "text"
      },
      "source": [
        "<a href=\"https://colab.research.google.com/github/kimgu11/NLP_2023/blob/main/example/dog_and_cat.ipynb\" target=\"_parent\"><img src=\"https://colab.research.google.com/assets/colab-badge.svg\" alt=\"Open In Colab\"/></a>"
      ]
    },
    {
      "cell_type": "code",
      "execution_count": null,
      "metadata": {
        "id": "Gb4d4UIhycRA"
      },
      "outputs": [],
      "source": [
        "!pip install tensorflow\n",
        "!pip install opencv-python\n",
        "!pip install numpy"
      ]
    },
    {
      "cell_type": "code",
      "source": [
        "def check_images(directory):\n",
        "    for root, dirs, files in os.walk(directory):\n",
        "        for file in files:\n",
        "            file_path = os.path.join(root, file)\n",
        "            try:\n",
        "                Image.open(file_path)\n",
        "            except Exception as e:\n",
        "                print(f\"Error opening {file_path}: {e}\")"
      ],
      "metadata": {
        "id": "iOVkvyg93HbS"
      },
      "execution_count": 11,
      "outputs": []
    },
    {
      "cell_type": "code",
      "source": [
        "import tensorflow as tf\n",
        "from tensorflow.keras.preprocessing.image import ImageDataGenerator\n",
        "from tensorflow.keras.models import Sequential\n",
        "from tensorflow.keras.layers import Conv2D, MaxPooling2D, Flatten, Dense\n",
        "import os\n",
        "import numpy as np\n",
        "import cv2\n",
        "from keras.preprocessing import image\n",
        "from PIL import Image\n",
        "import matplotlib.pyplot as plt\n",
        "from keras.preprocessing import image\n",
        "\n",
        "\n",
        "# 데이터 경로 설정\n",
        "train_dir = '/content/testdata'\n",
        "test_dir = '/content/training_data'\n",
        "\n",
        "# 이미지 데이터 생성기 설정\n",
        "train_datagen = ImageDataGenerator(rescale=1./255)\n",
        "test_datagen = ImageDataGenerator(rescale=1./255)\n",
        "\n",
        "# 훈련 데이터 및 검증 데이터 불러오기\n",
        "train_generator = train_datagen.flow_from_directory(\n",
        "    train_dir,\n",
        "    target_size=(64, 64),\n",
        "    batch_size=32,\n",
        "    class_mode='binary'\n",
        ")\n",
        "\n",
        "test_generator = test_datagen.flow_from_directory(\n",
        "    test_dir,\n",
        "    target_size=(64, 64),\n",
        "    batch_size=32,\n",
        "    class_mode='binary'\n",
        ")\n",
        "\n",
        "#이미지 검사\n",
        "check_images(train_dir)\n",
        "check_images(test_dir)\n",
        "\n",
        "# CNN 모델 정의\n",
        "model = Sequential()\n",
        "model.add(Conv2D(32, (3, 3), input_shape=(64, 64, 3), activation='relu'))\n",
        "model.add(MaxPooling2D(pool_size=(2, 2)))\n",
        "\n",
        "model.add(Conv2D(64, (3, 3), activation='relu'))\n",
        "model.add(MaxPooling2D(pool_size=(2, 2)))\n",
        "\n",
        "model.add(Conv2D(128, (3, 3), activation='relu'))\n",
        "model.add(MaxPooling2D(pool_size=(2, 2)))\n",
        "\n",
        "model.add(Flatten())\n",
        "model.add(Dense(128, activation='relu'))\n",
        "model.add(Dense(1, activation='sigmoid'))\n",
        "\n",
        "# 모델 컴파일\n",
        "model.compile(optimizer='adam', loss='binary_crossentropy', metrics=['accuracy'])\n",
        "\n",
        "# 모델 훈련\n",
        "model.fit(train_generator, epochs=10, validation_data=test_generator)\n",
        "\n",
        "# 테스트 이미지로 모델 테스트\n",
        "def predict_image(file_path):\n",
        "    img = image.load_img(file_path, target_size=(64, 64))\n",
        "    img = image.img_to_array(img)\n",
        "    img = np.expand_dims(img, axis=0)\n",
        "    result = model.predict(img)\n",
        "    return result\n",
        "\n",
        "# 테스트 이미지 경로 설정\n",
        "test_image_path = '/content/test/test_image.jpg'\n",
        "\n",
        "# 이미지 예측\n",
        "prediction_result = predict_image(test_image_path)\n",
        "\n",
        "# 이미지 로드\n",
        "img = image.load_img(test_image_path, target_size=(64, 64))\n",
        "img_array = image.img_to_array(img)\n",
        "\n",
        "# 이미지 출력\n",
        "plt.imshow(img_array.astype(int))\n",
        "plt.axis('off')  # 축 숨기기\n",
        "plt.show()\n",
        "\n",
        "# 예측 결과 출력\n",
        "if prediction_result[0][0] > 0.5:\n",
        "    prediction = 'Dog'\n",
        "else:\n",
        "    prediction = 'Cat'\n",
        "\n",
        "print(f'The image is predicted as: {prediction}')\n",
        "\n"
      ],
      "metadata": {
        "colab": {
          "base_uri": "https://localhost:8080/",
          "height": 885
        },
        "id": "0b2DUl7jyd8p",
        "outputId": "e8b5addd-25c3-40cd-c788-70cda5391920"
      },
      "execution_count": 17,
      "outputs": [
        {
          "output_type": "stream",
          "name": "stdout",
          "text": [
            "Found 10 images belonging to 3 classes.\n",
            "Found 10 images belonging to 3 classes.\n",
            "Epoch 1/10\n",
            "1/1 [==============================] - 10s 10s/step - loss: 0.6505 - accuracy: 0.5000 - val_loss: -0.6574 - val_accuracy: 0.5000\n",
            "Epoch 2/10\n",
            "1/1 [==============================] - 5s 5s/step - loss: -0.6574 - accuracy: 0.5000 - val_loss: -2.1985 - val_accuracy: 0.5000\n",
            "Epoch 3/10\n",
            "1/1 [==============================] - 6s 6s/step - loss: -2.1985 - accuracy: 0.5000 - val_loss: -4.8699 - val_accuracy: 0.5000\n",
            "Epoch 4/10\n",
            "1/1 [==============================] - 5s 5s/step - loss: -4.8699 - accuracy: 0.5000 - val_loss: -9.4905 - val_accuracy: 0.5000\n",
            "Epoch 5/10\n",
            "1/1 [==============================] - 5s 5s/step - loss: -9.4905 - accuracy: 0.5000 - val_loss: -16.9372 - val_accuracy: 0.5000\n",
            "Epoch 6/10\n",
            "1/1 [==============================] - 6s 6s/step - loss: -16.9372 - accuracy: 0.5000 - val_loss: -28.4368 - val_accuracy: 0.5000\n",
            "Epoch 7/10\n",
            "1/1 [==============================] - 5s 5s/step - loss: -28.4368 - accuracy: 0.5000 - val_loss: -45.6254 - val_accuracy: 0.5000\n",
            "Epoch 8/10\n",
            "1/1 [==============================] - 8s 8s/step - loss: -45.6254 - accuracy: 0.5000 - val_loss: -70.4915 - val_accuracy: 0.5000\n",
            "Epoch 9/10\n",
            "1/1 [==============================] - 5s 5s/step - loss: -70.4915 - accuracy: 0.5000 - val_loss: -105.6373 - val_accuracy: 0.5000\n",
            "Epoch 10/10\n",
            "1/1 [==============================] - 6s 6s/step - loss: -105.6373 - accuracy: 0.5000 - val_loss: -154.2871 - val_accuracy: 0.5000\n"
          ]
        },
        {
          "output_type": "stream",
          "name": "stderr",
          "text": [
            "WARNING:tensorflow:5 out of the last 5 calls to <function Model.make_predict_function.<locals>.predict_function at 0x7b5770da4ca0> triggered tf.function retracing. Tracing is expensive and the excessive number of tracings could be due to (1) creating @tf.function repeatedly in a loop, (2) passing tensors with different shapes, (3) passing Python objects instead of tensors. For (1), please define your @tf.function outside of the loop. For (2), @tf.function has reduce_retracing=True option that can avoid unnecessary retracing. For (3), please refer to https://www.tensorflow.org/guide/function#controlling_retracing and https://www.tensorflow.org/api_docs/python/tf/function for  more details.\n"
          ]
        },
        {
          "output_type": "stream",
          "name": "stdout",
          "text": [
            "1/1 [==============================] - 0s 136ms/step\n"
          ]
        },
        {
          "output_type": "display_data",
          "data": {
            "text/plain": [
              "<Figure size 640x480 with 1 Axes>"
            ],
            "image/png": "[encoded data removed]"
          },
          "metadata": {}
        },
        {
          "output_type": "stream",
          "name": "stdout",
          "text": [
            "The image is predicted as: Dog\n"
          ]
        }
      ]
    }
  ]
}