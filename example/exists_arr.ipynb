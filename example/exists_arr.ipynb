{
  "nbformat": 4,
  "nbformat_minor": 0,
  "metadata": {
    "colab": {
      "provenance": [],
      "authorship_tag": "ABX9TyPeoNjCN0w3C/0WlzrCYYyd",
      "include_colab_link": true
    },
    "kernelspec": {
      "name": "python3",
      "display_name": "Python 3"
    },
    "language_info": {
      "name": "python"
    }
  },
  "cells": [
    {
      "cell_type": "markdown",
      "metadata": {
        "id": "view-in-github",
        "colab_type": "text"
      },
      "source": [
        "<a href=\"https://colab.research.google.com/github/kimgu11/NLP_2023/blob/main/example/exists_arr.ipynb\" target=\"_parent\"><img src=\"https://colab.research.google.com/assets/colab-badge.svg\" alt=\"Open In Colab\"/></a>"
      ]
    },
    {
      "cell_type": "code",
      "execution_count": 14,
      "metadata": {
        "id": "YkuYafAraghP"
      },
      "outputs": [],
      "source": [
        "def exists_in_rec(arr, target): #어레이 안에 타겟이 있는지 탐색 재귀함수 방식\n",
        "    if len(arr) == 0:\n",
        "        return False\n",
        "    if arr[-1] == target:\n",
        "        return True\n",
        "    return exists_in_rec(arr[:-1], target)"
      ]
    },
    {
      "cell_type": "code",
      "source": [
        "def exists_in(arr, target):  #반복문을 활용\n",
        "    for x in arr:\n",
        "        if x == target:\n",
        "            return True\n",
        "    return False"
      ],
      "metadata": {
        "id": "XlF7Xha2aiZI"
      },
      "execution_count": 15,
      "outputs": []
    },
    {
      "cell_type": "code",
      "source": [
        "def compare(func1, func2, *args): #위의 두 함수를 비교하는 함수 결국에 뜻이 같은 함수기 때문에 두 함수를 비교하면 true가 리턴됨\n",
        "    ret1 = func1(*args)\n",
        "    ret2 = func2(*args)\n",
        "\n",
        "    print(f\"{func1.__name__} => {ret1}\")\n",
        "    print(f\"{func2.__name__} => {ret2}\")\n",
        "    equal = ret1 == ret2\n",
        "    print(f\"equal? = {equal}\")\n",
        "\n",
        "    return equal"
      ],
      "metadata": {
        "id": "PgtlIdnmanCW"
      },
      "execution_count": 29,
      "outputs": []
    },
    {
      "cell_type": "code",
      "source": [
        "print(compare(exists_in, exists_in_rec, [1,2,3,4,5,6,7],1))"
      ],
      "metadata": {
        "colab": {
          "base_uri": "https://localhost:8080/"
        },
        "id": "Ka6NsjFIao5W",
        "outputId": "30127f29-bc51-4ada-8a45-e67784fc009b"
      },
      "execution_count": 30,
      "outputs": [
        {
          "output_type": "stream",
          "name": "stdout",
          "text": [
            "exists_in => True\n",
            "exists_in_rec => True\n",
            "equal? = True\n",
            "None\n"
          ]
        }
      ]
    },
    {
      "cell_type": "code",
      "source": [
        "print(compare(exists_in, exists_in_rec, [1,2,3,4,5,6,7],8))"
      ],
      "metadata": {
        "colab": {
          "base_uri": "https://localhost:8080/"
        },
        "id": "2nKy0mkZbw9E",
        "outputId": "1d55074d-9a29-4237-aa81-ccca0f382edf"
      },
      "execution_count": 28,
      "outputs": [
        {
          "output_type": "stream",
          "name": "stdout",
          "text": [
            "exists_in => False\n",
            "exists_in_rec => False\n",
            "equal? = True\n",
            "True\n"
          ]
        }
      ]
    }
  ]
}