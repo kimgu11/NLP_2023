{
  "nbformat": 4,
  "nbformat_minor": 0,
  "metadata": {
    "colab": {
      "provenance": [],
      "authorship_tag": "ABX9TyOSEUewnfHWUzFlnXHBuZ/g",
      "include_colab_link": true
    },
    "kernelspec": {
      "name": "python3",
      "display_name": "Python 3"
    },
    "language_info": {
      "name": "python"
    }
  },
  "cells": [
    {
      "cell_type": "markdown",
      "metadata": {
        "id": "view-in-github",
        "colab_type": "text"
      },
      "source": [
        "<a href=\"https://colab.research.google.com/github/kimgu11/NLP_2023/blob/main/example/maze_runner.ipynb\" target=\"_parent\"><img src=\"https://colab.research.google.com/assets/colab-badge.svg\" alt=\"Open In Colab\"/></a>"
      ]
    },
    {
      "cell_type": "code",
      "execution_count": 1,
      "metadata": {
        "id": "LwnC_OGnq6dT"
      },
      "outputs": [],
      "source": [
        "import pickle\n",
        "import random\n",
        "import time"
      ]
    },
    {
      "cell_type": "code",
      "source": [
        "class Maze:  #미로 생성 코드\n",
        "    view_delay_sec = 1.0\n",
        "\n",
        "    def __init__(self, height, width, ratio=0.5):\n",
        "        self.height = height\n",
        "        self.width = width\n",
        "        self.start_row, self.start_col = 1, 1\n",
        "        self.end_row, self.end_col = height, width\n",
        "\n",
        "        self._maze_init()\n",
        "        self._fill(ratio)\n",
        "\n",
        "    def _maze_init(self):\n",
        "        hwall = ['#'] * (self.width + 2)\n",
        "        self.maze = [hwall]\n",
        "        for row in range(1, self.height + 1):\n",
        "            self.maze.append(['#'] + [' '] * self.width + ['#'])\n",
        "        self.maze.append(hwall)\n",
        "\n",
        "    def _fill(self, ratio):\n",
        "        empty_slots = []\n",
        "        for row in range(1, self.height + 1):\n",
        "            for col in range(1, self.width + 1):\n",
        "                if (row, col) not in [(1, 1), (self.height, self.width)]:\n",
        "                    empty_slots.append((row, col))\n",
        "\n",
        "        n_blk = int(self.height * self.width * ratio)\n",
        "        inner_walls = random.choices(empty_slots, k=n_blk)\n",
        "        for row, col in inner_walls:\n",
        "            self.maze[row][col] = '#'"
      ],
      "metadata": {
        "id": "WBxzgg2yq7oV"
      },
      "execution_count": 2,
      "outputs": []
    },
    {
      "cell_type": "code",
      "source": [],
      "metadata": {
        "id": "mBQlmzABq-WV"
      },
      "execution_count": null,
      "outputs": []
    }
  ]
}