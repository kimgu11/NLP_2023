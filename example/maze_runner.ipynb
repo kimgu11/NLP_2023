{
  "nbformat": 4,
  "nbformat_minor": 0,
  "metadata": {
    "colab": {
      "provenance": [],
      "include_colab_link": true
    },
    "kernelspec": {
      "name": "python3",
      "display_name": "Python 3"
    },
    "language_info": {
      "name": "python"
    }
  },
  "cells": [
    {
      "cell_type": "markdown",
      "metadata": {
        "id": "view-in-github",
        "colab_type": "text"
      },
      "source": [
        "<a href=\"https://colab.research.google.com/github/kimgu11/NLP_2023/blob/main/example/maze_runner.ipynb\" target=\"_parent\"><img src=\"https://colab.research.google.com/assets/colab-badge.svg\" alt=\"Open In Colab\"/></a>"
      ]
    },
    {
      "cell_type": "code",
      "execution_count": null,
      "metadata": {
        "id": "LwnC_OGnq6dT"
      },
      "outputs": [],
      "source": [
        "import pickle\n",
        "import random\n",
        "import time"
      ]
    },
    {
      "cell_type": "code",
      "source": [
        "class Maze:  #미로 생성 코드\n",
        "    view_delay_sec = 1.0\n",
        "\n",
        "    def __init__(self, height, width, ratio=0.5):\n",
        "        self.height = height\n",
        "        self.width = width\n",
        "        self.start_row, self.start_col = 1, 1\n",
        "        self.end_row, self.end_col = height, width\n",
        "\n",
        "        self._maze_init()\n",
        "        self._fill(ratio)\n",
        "\n",
        "    def _maze_init(self):\n",
        "        hwall = ['#'] * (self.width + 2)\n",
        "        self.maze = [hwall]\n",
        "        for row in range(1, self.height + 1):\n",
        "            self.maze.append(['#'] + [' '] * self.width + ['#'])\n",
        "        self.maze.append(hwall)\n",
        "\n",
        "    def _fill(self, ratio):\n",
        "        empty_slots = []\n",
        "        for row in range(1, self.height + 1):\n",
        "            for col in range(1, self.width + 1):\n",
        "                if (row, col) not in [(1, 1), (self.height, self.width)]:\n",
        "                    empty_slots.append((row, col))\n",
        "\n",
        "        n_blk = int(self.height * self.width * ratio)\n",
        "        inner_walls = random.choices(empty_slots, k=n_blk)\n",
        "        for row, col in inner_walls:\n",
        "            self.maze[row][col] = '#'\n",
        "\n",
        "    def in_range(self, row, col):\n",
        "        return 0 <= row <= self.height and 0 <= col <= self.width\n",
        "\n",
        "    def is_empty(self, row, col):\n",
        "        return self.maze[row][col] == ' '\n",
        "\n",
        "    def is_wall(self, row, col):\n",
        "        return self.in_range(row, col) and self.maze[row][col] == '#'\n",
        "\n",
        "    def save(self, filename):\n",
        "        try:\n",
        "            with open(filename, \"wb\") as f:\n",
        "                pickle.dump(self, f)\n",
        "            return True\n",
        "        except IOError:\n",
        "            return False\n",
        "\n",
        "    @classmethod\n",
        "    def load(cls, filename):\n",
        "        try:\n",
        "            with open(filename, \"rb\") as f:\n",
        "                obj = pickle.load(f)\n",
        "            return obj\n",
        "        except IOError:\n",
        "            return None\n",
        "\n",
        "    def __repr__(self):\n",
        "        repr = []\n",
        "        for row in self.maze:\n",
        "            repr.append(''.join(row))\n",
        "        return '\\n'.join(repr)\n",
        "\n",
        "    def is_valid_path(self, path):\n",
        "        def _neighbors(r1, c1, r2, c2):\n",
        "            return (r1 - r2, c1 - c2) in [(1, 0), (0, 1), (-1, 0), (0, -1)]\n",
        "\n",
        "        if len(path) < 1 or path[0] != (1, 1):\n",
        "            return False\n",
        "\n",
        "        for i in range(1, len(path)):\n",
        "            if not self.is_empty(*path[i]):\n",
        "                return False\n",
        "\n",
        "            if not _neighbors(*path[i - 1], *path[i]):\n",
        "                return False\n",
        "\n",
        "        if path[-1] != (self.height, self.width):\n",
        "            return False\n",
        "\n",
        "        return True\n",
        "\n",
        "    def view_path(self, path):\n",
        "        if not self.is_valid_path(path):\n",
        "            print(\"view_path(): Not a valid path\")\n",
        "            return\n",
        "\n",
        "        print(\"view_path() starts from (1, 1)... \")\n",
        "        print()\n",
        "        time.sleep(Maze.view_delay_sec)\n",
        "\n",
        "        cnt = 0\n",
        "        for row, col in path:\n",
        "            cnt += 1\n",
        "            print('current =', (row, col), ', length =', cnt)\n",
        "            self.maze[row][col] = '@'\n",
        "            print(self)\n",
        "            print()\n",
        "            time.sleep(Maze.view_delay_sec)\n",
        "\n",
        "        print(\"view_path() finished at ({}, {}), length = {}\".format(self.height, self.width, len(path)))\n",
        "        print()\n",
        "\n",
        "        for row, col in path:\n",
        "            self.maze[row][col] = ' '"
      ],
      "metadata": {
        "id": "WBxzgg2yq7oV"
      },
      "execution_count": 1,
      "outputs": []
    },
    {
      "cell_type": "code",
      "source": [],
      "metadata": {
        "id": "mBQlmzABq-WV"
      },
      "execution_count": null,
      "outputs": []
    }
  ]
}