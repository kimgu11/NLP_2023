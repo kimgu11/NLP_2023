{
  "nbformat": 4,
  "nbformat_minor": 0,
  "metadata": {
    "colab": {
      "provenance": [],
      "authorship_tag": "ABX9TyPwvzxQ15RlXyM+z2OZ+Zeb",
      "include_colab_link": true
    },
    "kernelspec": {
      "name": "python3",
      "display_name": "Python 3"
    },
    "language_info": {
      "name": "python"
    }
  },
  "cells": [
    {
      "cell_type": "markdown",
      "metadata": {
        "id": "view-in-github",
        "colab_type": "text"
      },
      "source": [
        "<a href=\"https://colab.research.google.com/github/kimgu11/NLP_2023/blob/main/example/sort.ipynb\" target=\"_parent\"><img src=\"https://colab.research.google.com/assets/colab-badge.svg\" alt=\"Open In Colab\"/></a>"
      ]
    },
    {
      "cell_type": "code",
      "source": [
        "def merge(xs,ys):\n",
        "  # xs, ys, ss = xs, ys, []\n",
        "  xs, ys, ss = xs[:], ys[:], []\n",
        "  while xs!=[] and ys!=[]:\n",
        "    if xs[0] <= ys[0]:\n",
        "      ss.append(xs[0])\n",
        "      xs.remove(xs[0])\n",
        "    else:\n",
        "      ss.append(ys[0])\n",
        "      ys.remove(ys[0])\n",
        "  ss.extend(xs)\n",
        "  ss.extend(ys)\n",
        "  return ss"
      ],
      "metadata": {
        "id": "NJiXE2O0H1md"
      },
      "execution_count": 1,
      "outputs": []
    },
    {
      "cell_type": "code",
      "execution_count": 2,
      "metadata": {
        "id": "p3y54DIdHdeh"
      },
      "outputs": [],
      "source": [
        "def merge2R(xss): #재귀함수\n",
        "  if len(xss) <= 1:\n",
        "    return xss\n",
        "\n",
        "  ss = []\n",
        "  ss.append(merge(xss[0], xss[1]))\n",
        "  ss.extend(merge2R(xss[2:]))\n",
        "\n",
        "  return ss"
      ]
    },
    {
      "cell_type": "code",
      "source": [
        "merge2R([[2],[1,3],[4,6,7],[5,8]])"
      ],
      "metadata": {
        "colab": {
          "base_uri": "https://localhost:8080/"
        },
        "id": "Nf9MMQVdHp6B",
        "outputId": "2456ccf4-501e-4a07-f7d5-a2d897e9150b"
      },
      "execution_count": 3,
      "outputs": [
        {
          "output_type": "execute_result",
          "data": {
            "text/plain": [
              "[[1, 2, 3], [4, 5, 6, 7, 8]]"
            ]
          },
          "metadata": {},
          "execution_count": 3
        }
      ]
    },
    {
      "cell_type": "code",
      "source": [
        "merge2R([[2],[1,3],[4,6,7],[5,8],[9]])"
      ],
      "metadata": {
        "colab": {
          "base_uri": "https://localhost:8080/"
        },
        "id": "w_rXlBSMHrNA",
        "outputId": "51e3261b-1670-43c7-f851-139c7051c547"
      },
      "execution_count": 4,
      "outputs": [
        {
          "output_type": "execute_result",
          "data": {
            "text/plain": [
              "[[1, 2, 3], [4, 5, 6, 7, 8], [9]]"
            ]
          },
          "metadata": {},
          "execution_count": 4
        }
      ]
    },
    {
      "cell_type": "code",
      "source": [
        "def merge2T(xss,  ss=None): #꼬리재귀 버전\n",
        "  if ss is None:\n",
        "    ss = []\n",
        "  if len(xss) <= 1:\n",
        "    ss.extend(xss)\n",
        "    return ss\n",
        "\n",
        "  ss.append(merge(xss[0],xss[1]))\n",
        "  return merge2T(xss[2:], ss)"
      ],
      "metadata": {
        "id": "UrLgXbakHtmo"
      },
      "execution_count": 5,
      "outputs": []
    },
    {
      "cell_type": "code",
      "source": [
        "merge2T([[2],[1,3],[4,6,7],[5,8]])"
      ],
      "metadata": {
        "colab": {
          "base_uri": "https://localhost:8080/"
        },
        "id": "ni6w45xnHtkX",
        "outputId": "9995be56-7e2b-465e-abf5-ec7828425723"
      },
      "execution_count": 6,
      "outputs": [
        {
          "output_type": "execute_result",
          "data": {
            "text/plain": [
              "[[1, 2, 3], [4, 5, 6, 7, 8]]"
            ]
          },
          "metadata": {},
          "execution_count": 6
        }
      ]
    },
    {
      "cell_type": "code",
      "source": [
        "merge2T([[2],[1,3],[4,6,7],[5,8],[9]])"
      ],
      "metadata": {
        "colab": {
          "base_uri": "https://localhost:8080/"
        },
        "id": "6BrR1KznHtez",
        "outputId": "a6afc8b2-19e0-4c5a-a001-49c4872f3d9f"
      },
      "execution_count": 7,
      "outputs": [
        {
          "output_type": "execute_result",
          "data": {
            "text/plain": [
              "[[1, 2, 3], [4, 5, 6, 7, 8], [9]]"
            ]
          },
          "metadata": {},
          "execution_count": 7
        }
      ]
    },
    {
      "cell_type": "code",
      "source": [
        "def merge2W(xs): #whlie 반복문 버전\n",
        "  ss = []\n",
        "  ix = 0\n",
        "  stop = len(xs)\n",
        "  while ix < stop:\n",
        "    if stop - ix == 1:\n",
        "      ss.append(xs[ix])\n",
        "      break\n",
        "    ss.append(merge(xs[ix],xs[ix+1]))\n",
        "    ix += 2\n",
        "  return ss"
      ],
      "metadata": {
        "id": "tNchmzH0H_wc"
      },
      "execution_count": 8,
      "outputs": []
    },
    {
      "cell_type": "code",
      "source": [
        "merge2W([[2],[1,3],[4,6,7],[5,8]])"
      ],
      "metadata": {
        "colab": {
          "base_uri": "https://localhost:8080/"
        },
        "id": "fM6sC4Y8IAxe",
        "outputId": "b9b86bd8-6a4e-458a-d51f-5ac32fa657a5"
      },
      "execution_count": 9,
      "outputs": [
        {
          "output_type": "execute_result",
          "data": {
            "text/plain": [
              "[[1, 2, 3], [4, 5, 6, 7, 8]]"
            ]
          },
          "metadata": {},
          "execution_count": 9
        }
      ]
    },
    {
      "cell_type": "code",
      "source": [
        "merge2W([[2],[1,3],[4,6,7],[5,8],[9]])"
      ],
      "metadata": {
        "colab": {
          "base_uri": "https://localhost:8080/"
        },
        "id": "TDnsTk7wIAvU",
        "outputId": "e2538fe2-9fd7-46c2-a63c-723a5e688065"
      },
      "execution_count": 10,
      "outputs": [
        {
          "output_type": "execute_result",
          "data": {
            "text/plain": [
              "[[1, 2, 3], [4, 5, 6, 7, 8], [9]]"
            ]
          },
          "metadata": {},
          "execution_count": 10
        }
      ]
    },
    {
      "cell_type": "code",
      "source": [
        "def merge2_with_range(xs): #while 반복문 range사용 버전\n",
        "  ss = []\n",
        "  rx = range(0, len(xs), 2)\n",
        "  ix = rx.start\n",
        "  while ix < rx.stop:\n",
        "    if rx.stop - ix == 1:\n",
        "      ss.append(xs[ix])\n",
        "      break\n",
        "    ss.append(merge(xs[ix],xs[ix+1]))\n",
        "    ix += rx.step\n",
        "  return ss"
      ],
      "metadata": {
        "id": "tur4pHUcIFZd"
      },
      "execution_count": 11,
      "outputs": []
    },
    {
      "cell_type": "code",
      "source": [
        "merge2_with_range([[2],[1,3],[4,6,7],[5,8]])"
      ],
      "metadata": {
        "id": "Q607m2mzIFXb",
        "outputId": "917b36c5-9ef8-4193-a117-d04a818aeb75",
        "colab": {
          "base_uri": "https://localhost:8080/"
        }
      },
      "execution_count": 12,
      "outputs": [
        {
          "output_type": "execute_result",
          "data": {
            "text/plain": [
              "[[1, 2, 3], [4, 5, 6, 7, 8]]"
            ]
          },
          "metadata": {},
          "execution_count": 12
        }
      ]
    },
    {
      "cell_type": "code",
      "source": [
        "merge2_with_range([[2],[1,3],[4,6,7],[5,8],[9]])"
      ],
      "metadata": {
        "id": "YCIEgxxAIE-g",
        "outputId": "8cf47d2d-aed2-4e2d-8aca-724d5e52414f",
        "colab": {
          "base_uri": "https://localhost:8080/"
        }
      },
      "execution_count": 13,
      "outputs": [
        {
          "output_type": "execute_result",
          "data": {
            "text/plain": [
              "[[1, 2, 3], [4, 5, 6, 7, 8], [9]]"
            ]
          },
          "metadata": {},
          "execution_count": 13
        }
      ]
    },
    {
      "cell_type": "code",
      "source": [
        "singles = lambda xs: [ [x] for x in xs ]\n",
        "flatten = lambda xss: [ x for xs in xss for x in xs ]\n",
        "\n",
        "def msortBTU(xs): #merge2로 시작하는 함수를 반복적으로 호출하여 정렬하는 함수\n",
        "  ss = singles(xs)\n",
        "  while len(ss) > 1:\n",
        "    ss = merge2_with_range(ss)\n",
        "  return flatten(ss)"
      ],
      "metadata": {
        "id": "e2__xMFg-GlO"
      },
      "execution_count": 19,
      "outputs": []
    },
    {
      "cell_type": "code",
      "source": [
        "msortBTU([2,1,3,4,6,7,5,8,9])"
      ],
      "metadata": {
        "id": "QL3ZaGBD-Gc6",
        "outputId": "1550f58d-5523-4dd6-9a76-1d132e091604",
        "colab": {
          "base_uri": "https://localhost:8080/"
        }
      },
      "execution_count": 20,
      "outputs": [
        {
          "output_type": "execute_result",
          "data": {
            "text/plain": [
              "[1, 2, 3, 4, 5, 6, 7, 8, 9]"
            ]
          },
          "metadata": {},
          "execution_count": 20
        }
      ]
    },
    {
      "cell_type": "code",
      "source": [
        "msortBTU([2,1,3,10,15,70,4,6,7,5,8,9])"
      ],
      "metadata": {
        "id": "ZHsY-D6y-Gae",
        "outputId": "42ded6f4-616b-45bd-e5f9-edd0732238f2",
        "colab": {
          "base_uri": "https://localhost:8080/"
        }
      },
      "execution_count": 21,
      "outputs": [
        {
          "output_type": "execute_result",
          "data": {
            "text/plain": [
              "[1, 2, 3, 4, 5, 6, 7, 8, 9, 10, 15, 70]"
            ]
          },
          "metadata": {},
          "execution_count": 21
        }
      ]
    },
    {
      "cell_type": "code",
      "source": [
        "msortBTU([21,3,10,15,70,4,6,21,54,1,24,33,2,7,66,5,8,9,80])"
      ],
      "metadata": {
        "id": "y_C4QpyX-IZE",
        "outputId": "b15d2c99-b469-4f70-adc2-ca84ee8f2936",
        "colab": {
          "base_uri": "https://localhost:8080/"
        }
      },
      "execution_count": 22,
      "outputs": [
        {
          "output_type": "execute_result",
          "data": {
            "text/plain": [
              "[1, 2, 3, 4, 5, 6, 7, 8, 9, 10, 15, 21, 21, 24, 33, 54, 66, 70, 80]"
            ]
          },
          "metadata": {},
          "execution_count": 22
        }
      ]
    }
  ]
}
