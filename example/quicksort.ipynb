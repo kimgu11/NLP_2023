{
  "nbformat": 4,
  "nbformat_minor": 0,
  "metadata": {
    "colab": {
      "provenance": [],
      "authorship_tag": "ABX9TyOiQizGFwkkWRu30+g3yys3",
      "include_colab_link": true
    },
    "kernelspec": {
      "name": "python3",
      "display_name": "Python 3"
    },
    "language_info": {
      "name": "python"
    }
  },
  "cells": [
    {
      "cell_type": "markdown",
      "metadata": {
        "id": "view-in-github",
        "colab_type": "text"
      },
      "source": [
        "<a href=\"https://colab.research.google.com/github/kimgu11/NLP_2023/blob/main/example/quicksort.ipynb\" target=\"_parent\"><img src=\"https://colab.research.google.com/assets/colab-badge.svg\" alt=\"Open In Colab\"/></a>"
      ]
    },
    {
      "cell_type": "markdown",
      "source": [
        "- 정수와 문자열이 섞여있는 리스트에서\n",
        "  정수가 항상 문자열보다 앞(왼쪽)으로 오도록,\n",
        "  그리고 정수끼리 문자열끼리는 기본 순서대로 정렬되도록\n",
        "  적절한 테스트 데이터와 `key` 옵셔널 인자에 넘기는 함수를\n",
        "  작성해 테스트하라\n",
        "- 정수와 문자열이 섞여있는 리스트에서\n",
        "  정수가 항상 문자열보다 앞(왼쪽)으로 오도록,\n",
        "  그리고 정수끼리 문자열끼리는 기본 순의 반대로 정렬되도록\n",
        "  적절한 테스트 데이터와 `key` 옵셔널 인자에 넘기는 함수를\n",
        "  작성해 테스트하라\n",
        "    - 즉, 정수끼리는 더 큰 수가 앞(왼쪽)에 오도록\n",
        "    - 그리고 문자열끼리는 사전 순서의 반대로 나타나도록\n",
        "- 문자열만 나타나는 리스트에서 문자열의 길이 순서대로 우선\n",
        "  정렬하고 같은 길이의 문자열끼리는 사전순으로 정렬되도록\n",
        "  적절한 테스트 데이터와 `key` 옵셔널 인자에 넘기는 함수를\n",
        "  작성해 테스트하라\n",
        "\n"
      ],
      "metadata": {
        "id": "XQNMC6cvgRBG"
      }
    },
    {
      "cell_type": "code",
      "execution_count": 7,
      "metadata": {
        "id": "BF-ioi8jfI4C"
      },
      "outputs": [],
      "source": [
        "def partition(pivot, xs, key = lambda x:x):\n",
        "  if xs != []:\n",
        "    left, right = partition(pivot,xs[1:], key = key)\n",
        "    if key(xs[0]) <= key(pivot):\n",
        "      left.append(xs[0])\n",
        "    else:\n",
        "      right.append(xs[0])\n",
        "    return left, right\n",
        "  else:\n",
        "    return [], []\n",
        "\n",
        "\n",
        "def quicksort(xs, key = lambda x:x):\n",
        "  if len(xs) > 1:\n",
        "    pivot = xs[0]\n",
        "    (left, right) = partition(pivot,  xs[1:], key = key)\n",
        "    return quicksort(left, key = key) + [pivot] + quicksort(right, key=key)\n",
        "  else:\n",
        "        return xs"
      ]
    },
    {
      "cell_type": "code",
      "source": [
        "(lambda x1,x2: x1+x2)(1,2)"
      ],
      "metadata": {
        "colab": {
          "base_uri": "https://localhost:8080/"
        },
        "id": "KrbBXSMdgbmO",
        "outputId": "86ca7ad5-727d-4657-937c-d1433e5b2ff1"
      },
      "execution_count": 8,
      "outputs": [
        {
          "output_type": "execute_result",
          "data": {
            "text/plain": [
              "3"
            ]
          },
          "metadata": {},
          "execution_count": 8
        }
      ]
    },
    {
      "cell_type": "code",
      "source": [
        "quicksort([3,2,1,5,6,78,2,3,4,2], key = lambda x:-x)"
      ],
      "metadata": {
        "colab": {
          "base_uri": "https://localhost:8080/"
        },
        "id": "ZBj9u0TDgbjq",
        "outputId": "72523c8f-c882-4e2e-da30-63b28629e472"
      },
      "execution_count": 9,
      "outputs": [
        {
          "output_type": "execute_result",
          "data": {
            "text/plain": [
              "[78, 6, 5, 4, 3, 3, 2, 2, 2, 1]"
            ]
          },
          "metadata": {},
          "execution_count": 9
        }
      ]
    },
    {
      "cell_type": "code",
      "source": [
        "def f1(x):\n",
        "  if type(x) == int:\n",
        "    return (0,x)\n",
        "  else:\n",
        "    return (1,x)\n",
        "quicksort([5,\"aaa\",2,\"wef\",6,'ghe',3,'awe'], key = f1)"
      ],
      "metadata": {
        "colab": {
          "base_uri": "https://localhost:8080/"
        },
        "id": "7zTE5VBigbhW",
        "outputId": "30bcbac2-7ac2-4f11-fb1a-3ee987009c71"
      },
      "execution_count": 10,
      "outputs": [
        {
          "output_type": "execute_result",
          "data": {
            "text/plain": [
              "[2, 3, 5, 6, 'aaa', 'awe', 'ghe', 'wef']"
            ]
          },
          "metadata": {},
          "execution_count": 10
        }
      ]
    },
    {
      "cell_type": "code",
      "source": [
        "def f1(x):\n",
        "  if type(x) == int:\n",
        "    return (0,-x)\n",
        "  else:\n",
        "    return (1,[-ord(c) for c in x])\n",
        "quicksort([5,\"aaa\",2,\"wef\",6,'ghe',3,'awe'], key = f1)"
      ],
      "metadata": {
        "colab": {
          "base_uri": "https://localhost:8080/"
        },
        "id": "Rp2eiKBrgwr5",
        "outputId": "15c034cf-5f50-43b4-a10b-bb27a2d26f1e"
      },
      "execution_count": 11,
      "outputs": [
        {
          "output_type": "execute_result",
          "data": {
            "text/plain": [
              "[6, 5, 3, 2, 'wef', 'ghe', 'awe', 'aaa']"
            ]
          },
          "metadata": {},
          "execution_count": 11
        }
      ]
    },
    {
      "cell_type": "code",
      "source": [
        "quicksort(['awawef',\"aaa\",'fgcbfd',\"wef\",'weafdvs','ghe','ww','gg','awe'], key = lambda x: (len(x),x))"
      ],
      "metadata": {
        "colab": {
          "base_uri": "https://localhost:8080/"
        },
        "id": "4NeBxDdOgz4L",
        "outputId": "4cb816fa-998d-4075-cfaa-2ee5550e1cf3"
      },
      "execution_count": 12,
      "outputs": [
        {
          "output_type": "execute_result",
          "data": {
            "text/plain": [
              "['gg', 'ww', 'aaa', 'awe', 'ghe', 'wef', 'awawef', 'fgcbfd', 'weafdvs']"
            ]
          },
          "metadata": {},
          "execution_count": 12
        }
      ]
    },
    {
      "cell_type": "markdown",
      "source": [
        "##사용자가 원하는 순서로 일반적인 정렬을 제공하는 방법\n",
        "\n",
        "1. 파이썬처럼 원소 'a1'과 'a2'를 'key(a1)'과 'key(a2)'로\n",
        "변환하는 함수 'key'를 제공하여 'key(a1) < key(a2)\n",
        "\n",
        "2. 상당수 다른 프로그래밍 언어의 표준 라이브러리에서는\n",
        "'a1 < a2'를 하는 크기 비교 연산자 대신에\n",
        "이항판별(두 개를 받아서 진리값을 리턴하는)함수\n",
        "'less'를 제공하여 'less(a1,a2)'를 비교한다."
      ],
      "metadata": {
        "id": "gKldtZPPJ9PP"
      }
    },
    {
      "cell_type": "code",
      "source": [
        "def partition(pivot, xs, less = lambda x1, x2:x1 < x2):\n",
        "  if xs != []:\n",
        "    left, right = partition(pivot,xs[1:], less = less)\n",
        "    if less(xs[0], pivot):\n",
        "      left.append(xs[0])\n",
        "    else:\n",
        "      right.append(xs[0])\n",
        "    return left, right\n",
        "  else:\n",
        "    return [], []\n",
        "\n",
        "\n",
        "def quicksort(xs, less = lambda x1, x2:x1 < x2):\n",
        "  if len(xs) > 1:\n",
        "    pivot = xs[0]\n",
        "    (left, right) = partition(pivot,  xs[1:], less = less)\n",
        "    return quicksort(left, less = less) + [pivot] + quicksort(right, less = less)\n",
        "  else:\n",
        "        return xs"
      ],
      "metadata": {
        "id": "tAvWwbpwKBMf"
      },
      "execution_count": 13,
      "outputs": []
    },
    {
      "cell_type": "code",
      "source": [
        "quicksort([3,2,1,5,6,78,2,3,4,2], less = lambda x1,x2: x1 >= x2)"
      ],
      "metadata": {
        "id": "q-RF7mlkKG_1",
        "outputId": "90dc3dd5-0029-45a7-d406-3e8dfcfa1113",
        "colab": {
          "base_uri": "https://localhost:8080/"
        }
      },
      "execution_count": 14,
      "outputs": [
        {
          "output_type": "execute_result",
          "data": {
            "text/plain": [
              "[78, 6, 5, 4, 3, 3, 2, 2, 2, 1]"
            ]
          },
          "metadata": {},
          "execution_count": 14
        }
      ]
    },
    {
      "cell_type": "code",
      "source": [
        "def less1(x1,x2):\n",
        "  if type(x1) == type(x2):\n",
        "    return x1 < x2\n",
        "  elif type(x1) == int: #x2는 문자열\n",
        "    return True\n",
        "  else:\n",
        "    return False\n",
        "quicksort([5,\"aaa\",2,\"wef\",6,'ghe',3,'awe'], less = less1)"
      ],
      "metadata": {
        "id": "smKnIsQHKG9g",
        "outputId": "8922d01d-a35e-4155-d4ca-712a275575cf",
        "colab": {
          "base_uri": "https://localhost:8080/"
        }
      },
      "execution_count": 15,
      "outputs": [
        {
          "output_type": "execute_result",
          "data": {
            "text/plain": [
              "[2, 3, 5, 6, 'aaa', 'awe', 'ghe', 'wef']"
            ]
          },
          "metadata": {},
          "execution_count": 15
        }
      ]
    },
    {
      "cell_type": "code",
      "source": [
        "def less1(x1,x2):\n",
        "  return x1 < x2 if type(x1) == type(x2) else type(x1) == int\n",
        "quicksort([5,\"aaa\",2,\"wef\",6,'ghe',3,'awe'], less = less1)"
      ],
      "metadata": {
        "id": "0MDsoVHRKGnm",
        "outputId": "125ab2f8-06df-4f13-bb45-e6bb3a339b03",
        "colab": {
          "base_uri": "https://localhost:8080/"
        }
      },
      "execution_count": 16,
      "outputs": [
        {
          "output_type": "execute_result",
          "data": {
            "text/plain": [
              "[2, 3, 5, 6, 'aaa', 'awe', 'ghe', 'wef']"
            ]
          },
          "metadata": {},
          "execution_count": 16
        }
      ]
    },
    {
      "cell_type": "code",
      "source": [
        "def less2(x1,x2):\n",
        "  return x1 >= x2 if type(x1) == type(x2) else type(x1) == int\n",
        "quicksort([5,\"aaa\",2,\"wef\",6,'ghe',3,'awe'], less = less2)"
      ],
      "metadata": {
        "id": "o26XI-Z7KGlc",
        "outputId": "f9a9b62c-f097-462e-fade-e00fd6bce965",
        "colab": {
          "base_uri": "https://localhost:8080/"
        }
      },
      "execution_count": 17,
      "outputs": [
        {
          "output_type": "execute_result",
          "data": {
            "text/plain": [
              "[6, 5, 3, 2, 'wef', 'ghe', 'awe', 'aaa']"
            ]
          },
          "metadata": {},
          "execution_count": 17
        }
      ]
    }
  ]
}