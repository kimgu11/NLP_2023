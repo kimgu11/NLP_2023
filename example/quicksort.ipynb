{
  "nbformat": 4,
  "nbformat_minor": 0,
  "metadata": {
    "colab": {
      "provenance": [],
      "authorship_tag": "ABX9TyMlgK7L6PFnODKmHtXDEIzw",
      "include_colab_link": true
    },
    "kernelspec": {
      "name": "python3",
      "display_name": "Python 3"
    },
    "language_info": {
      "name": "python"
    }
  },
  "cells": [
    {
      "cell_type": "markdown",
      "metadata": {
        "id": "view-in-github",
        "colab_type": "text"
      },
      "source": [
        "<a href=\"https://colab.research.google.com/github/kimgu11/NLP_2023/blob/main/example/quicksort.ipynb\" target=\"_parent\"><img src=\"https://colab.research.google.com/assets/colab-badge.svg\" alt=\"Open In Colab\"/></a>"
      ]
    },
    {
      "cell_type": "markdown",
      "source": [
        "- 정수와 문자열이 섞여있는 리스트에서\n",
        "  정수가 항상 문자열보다 앞(왼쪽)으로 오도록,\n",
        "  그리고 정수끼리 문자열끼리는 기본 순서대로 정렬되도록\n",
        "  적절한 테스트 데이터와 `key` 옵셔널 인자에 넘기는 함수를\n",
        "  작성해 테스트하라\n",
        "- 정수와 문자열이 섞여있는 리스트에서\n",
        "  정수가 항상 문자열보다 앞(왼쪽)으로 오도록,\n",
        "  그리고 정수끼리 문자열끼리는 기본 순의 반대로 정렬되도록\n",
        "  적절한 테스트 데이터와 `key` 옵셔널 인자에 넘기는 함수를\n",
        "  작성해 테스트하라\n",
        "    - 즉, 정수끼리는 더 큰 수가 앞(왼쪽)에 오도록\n",
        "    - 그리고 문자열끼리는 사전 순서의 반대로 나타나도록\n",
        "- 문자열만 나타나는 리스트에서 문자열의 길이 순서대로 우선\n",
        "  정렬하고 같은 길이의 문자열끼리는 사전순으로 정렬되도록\n",
        "  적절한 테스트 데이터와 `key` 옵셔널 인자에 넘기는 함수를\n",
        "  작성해 테스트하라\n",
        "\n"
      ],
      "metadata": {
        "id": "XQNMC6cvgRBG"
      }
    },
    {
      "cell_type": "code",
      "execution_count": 7,
      "metadata": {
        "id": "BF-ioi8jfI4C"
      },
      "outputs": [],
      "source": [
        "def partition(pivot, xs, key = lambda x:x):\n",
        "  if xs != []:\n",
        "    left, right = partition(pivot,xs[1:], key = key)\n",
        "    if key(xs[0]) <= key(pivot):\n",
        "      left.append(xs[0])\n",
        "    else:\n",
        "      right.append(xs[0])\n",
        "    return left, right\n",
        "  else:\n",
        "    return [], []\n",
        "\n",
        "\n",
        "def quicksort(xs, key = lambda x:x):\n",
        "  if len(xs) > 1:\n",
        "    pivot = xs[0]\n",
        "    (left, right) = partition(pivot,  xs[1:], key = key)\n",
        "    return quicksort(left, key = key) + [pivot] + quicksort(right, key=key)\n",
        "  else:\n",
        "        return xs"
      ]
    },
    {
      "cell_type": "code",
      "source": [
        "(lambda x1,x2: x1+x2)(1,2)"
      ],
      "metadata": {
        "colab": {
          "base_uri": "https://localhost:8080/"
        },
        "id": "KrbBXSMdgbmO",
        "outputId": "3cae44eb-417e-4b65-fc3d-98d3e847f7ce"
      },
      "execution_count": 8,
      "outputs": [
        {
          "output_type": "execute_result",
          "data": {
            "text/plain": [
              "3"
            ]
          },
          "metadata": {},
          "execution_count": 8
        }
      ]
    },
    {
      "cell_type": "code",
      "source": [
        "quicksort([3,2,1,5,6,78,2,3,4,2], key = lambda x:-x)"
      ],
      "metadata": {
        "colab": {
          "base_uri": "https://localhost:8080/"
        },
        "id": "ZBj9u0TDgbjq",
        "outputId": "f8209552-c340-4287-a0ef-c818eeae8e62"
      },
      "execution_count": 9,
      "outputs": [
        {
          "output_type": "execute_result",
          "data": {
            "text/plain": [
              "[78, 6, 5, 4, 3, 3, 2, 2, 2, 1]"
            ]
          },
          "metadata": {},
          "execution_count": 9
        }
      ]
    },
    {
      "cell_type": "code",
      "source": [
        "def f1(x):\n",
        "  if type(x) == int:\n",
        "    return (0,x)\n",
        "  else:\n",
        "    return (1,x)\n",
        "quicksort([5,\"aaa\",2,\"wef\",6,'ghe',3,'awe'], key = f1)"
      ],
      "metadata": {
        "colab": {
          "base_uri": "https://localhost:8080/"
        },
        "id": "7zTE5VBigbhW",
        "outputId": "669e18af-4a2f-4139-a708-c58705f6f4d4"
      },
      "execution_count": 10,
      "outputs": [
        {
          "output_type": "execute_result",
          "data": {
            "text/plain": [
              "[2, 3, 5, 6, 'aaa', 'awe', 'ghe', 'wef']"
            ]
          },
          "metadata": {},
          "execution_count": 10
        }
      ]
    },
    {
      "cell_type": "code",
      "source": [
        "def f1(x):\n",
        "  if type(x) == int:\n",
        "    return (0,-x)\n",
        "  else:\n",
        "    return (1,[-ord(c) for c in x])\n",
        "quicksort([5,\"aaa\",2,\"wef\",6,'ghe',3,'awe'], key = f1)"
      ],
      "metadata": {
        "colab": {
          "base_uri": "https://localhost:8080/"
        },
        "id": "Rp2eiKBrgwr5",
        "outputId": "eea51f82-d750-4ec1-f686-fbea66e22583"
      },
      "execution_count": 11,
      "outputs": [
        {
          "output_type": "execute_result",
          "data": {
            "text/plain": [
              "[6, 5, 3, 2, 'wef', 'ghe', 'awe', 'aaa']"
            ]
          },
          "metadata": {},
          "execution_count": 11
        }
      ]
    },
    {
      "cell_type": "code",
      "source": [
        "quicksort(['awawef',\"aaa\",'fgcbfd',\"wef\",'weafdvs','ghe','ww','gg','awe'], key = lambda x: (len(x),x))"
      ],
      "metadata": {
        "colab": {
          "base_uri": "https://localhost:8080/"
        },
        "id": "4NeBxDdOgz4L",
        "outputId": "451d03c6-3c59-4c1d-bfa9-7d0a84b678a8"
      },
      "execution_count": 12,
      "outputs": [
        {
          "output_type": "execute_result",
          "data": {
            "text/plain": [
              "['gg', 'ww', 'aaa', 'awe', 'ghe', 'wef', 'awawef', 'fgcbfd', 'weafdvs']"
            ]
          },
          "metadata": {},
          "execution_count": 12
        }
      ]
    }
  ]
}