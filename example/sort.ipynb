{
  "nbformat": 4,
  "nbformat_minor": 0,
  "metadata": {
    "colab": {
      "provenance": [],
      "authorship_tag": "ABX9TyOj4Ob78przDzGiEWIs/g45",
      "include_colab_link": true
    },
    "kernelspec": {
      "name": "python3",
      "display_name": "Python 3"
    },
    "language_info": {
      "name": "python"
    }
  },
  "cells": [
    {
      "cell_type": "markdown",
      "metadata": {
        "id": "view-in-github",
        "colab_type": "text"
      },
      "source": [
        "<a href=\"https://colab.research.google.com/github/kimgu11/NLP_2023/blob/main/example/sort.ipynb\" target=\"_parent\"><img src=\"https://colab.research.google.com/assets/colab-badge.svg\" alt=\"Open In Colab\"/></a>"
      ]
    },
    {
      "cell_type": "code",
      "source": [
        "def merge(xs,ys):\n",
        "  # xs, ys, ss = xs, ys, []\n",
        "  xs, ys, ss = xs[:], ys[:], []\n",
        "  while xs!=[] and ys!=[]:\n",
        "    if xs[0] <= ys[0]:\n",
        "      ss.append(xs[0])\n",
        "      xs.remove(xs[0])\n",
        "    else:\n",
        "      ss.append(ys[0])\n",
        "      ys.remove(ys[0])\n",
        "  ss.extend(xs)\n",
        "  ss.extend(ys)\n",
        "  return ss"
      ],
      "metadata": {
        "id": "NJiXE2O0H1md"
      },
      "execution_count": 3,
      "outputs": []
    },
    {
      "cell_type": "code",
      "execution_count": 4,
      "metadata": {
        "id": "p3y54DIdHdeh"
      },
      "outputs": [],
      "source": [
        "def merge2R(xss):\n",
        "  if len(xss) <= 1:\n",
        "    return xss\n",
        "\n",
        "  ss = []\n",
        "  ss.append(merge(xss[0], xss[1]))\n",
        "  ss.extend(merge2R(xss[2:]))\n",
        "\n",
        "  return ss"
      ]
    },
    {
      "cell_type": "code",
      "source": [
        "merge2R([[2],[1,3],[4,6,7],[5,8]])"
      ],
      "metadata": {
        "colab": {
          "base_uri": "https://localhost:8080/"
        },
        "id": "Nf9MMQVdHp6B",
        "outputId": "0c0a3c15-49ed-4796-ce5f-30ba4e878048"
      },
      "execution_count": 5,
      "outputs": [
        {
          "output_type": "execute_result",
          "data": {
            "text/plain": [
              "[[1, 2, 3], [4, 5, 6, 7, 8]]"
            ]
          },
          "metadata": {},
          "execution_count": 5
        }
      ]
    },
    {
      "cell_type": "code",
      "source": [
        "merge2R([[2],[1,3],[4,6,7],[5,8],[9]]) # 테스트"
      ],
      "metadata": {
        "colab": {
          "base_uri": "https://localhost:8080/"
        },
        "id": "w_rXlBSMHrNA",
        "outputId": "5e842005-3393-45a2-c43e-9038c33cac39"
      },
      "execution_count": 6,
      "outputs": [
        {
          "output_type": "execute_result",
          "data": {
            "text/plain": [
              "[[1, 2, 3], [4, 5, 6, 7, 8], [9]]"
            ]
          },
          "metadata": {},
          "execution_count": 6
        }
      ]
    },
    {
      "cell_type": "code",
      "source": [
        "def merge2T(xss,  ss=None):\n",
        "  if ss is None:\n",
        "    ss = []\n",
        "  if len(xss) <= 1:\n",
        "    ss.extend(xss)\n",
        "    return ss\n",
        "\n",
        "  ss.append(merge(xss[0],xss[1]))\n",
        "  return merge2T(xss[2:], ss)"
      ],
      "metadata": {
        "id": "UrLgXbakHtmo"
      },
      "execution_count": 7,
      "outputs": []
    },
    {
      "cell_type": "code",
      "source": [
        "merge2T([[2],[1,3],[4,6,7],[5,8]])"
      ],
      "metadata": {
        "colab": {
          "base_uri": "https://localhost:8080/"
        },
        "id": "ni6w45xnHtkX",
        "outputId": "0ad67172-e017-4df6-a284-964e01f6b325"
      },
      "execution_count": 8,
      "outputs": [
        {
          "output_type": "execute_result",
          "data": {
            "text/plain": [
              "[[1, 2, 3], [4, 5, 6, 7, 8]]"
            ]
          },
          "metadata": {},
          "execution_count": 8
        }
      ]
    },
    {
      "cell_type": "code",
      "source": [
        "merge2T([[2],[1,3],[4,6,7],[5,8],[9]])"
      ],
      "metadata": {
        "colab": {
          "base_uri": "https://localhost:8080/"
        },
        "id": "6BrR1KznHtez",
        "outputId": "8e8e117a-d1dd-4427-8584-6ed32239b5a7"
      },
      "execution_count": 9,
      "outputs": [
        {
          "output_type": "execute_result",
          "data": {
            "text/plain": [
              "[[1, 2, 3], [4, 5, 6, 7, 8], [9]]"
            ]
          },
          "metadata": {},
          "execution_count": 9
        }
      ]
    },
    {
      "cell_type": "code",
      "source": [
        "def merge2W(xs):\n",
        "  ss = []\n",
        "  ix = 0\n",
        "  stop = len(xs)\n",
        "  while ix < stop:\n",
        "    if stop - ix == 1:\n",
        "      ss.append(xs[ix])\n",
        "      break\n",
        "    ss.append(merge(xs[ix],xs[ix+1]))\n",
        "    ix += 2\n",
        "  return ss"
      ],
      "metadata": {
        "id": "tNchmzH0H_wc"
      },
      "execution_count": 10,
      "outputs": []
    },
    {
      "cell_type": "code",
      "source": [
        "merge2W([[2],[1,3],[4,6,7],[5,8]])"
      ],
      "metadata": {
        "colab": {
          "base_uri": "https://localhost:8080/"
        },
        "id": "fM6sC4Y8IAxe",
        "outputId": "6b4173eb-3575-459e-dc50-8858a101a1d6"
      },
      "execution_count": 11,
      "outputs": [
        {
          "output_type": "execute_result",
          "data": {
            "text/plain": [
              "[[1, 2, 3], [4, 5, 6, 7, 8]]"
            ]
          },
          "metadata": {},
          "execution_count": 11
        }
      ]
    },
    {
      "cell_type": "code",
      "source": [
        "merge2W([[2],[1,3],[4,6,7],[5,8],[9]])"
      ],
      "metadata": {
        "colab": {
          "base_uri": "https://localhost:8080/"
        },
        "id": "TDnsTk7wIAvU",
        "outputId": "2dac7add-93c5-4a92-c193-b504d860db54"
      },
      "execution_count": 12,
      "outputs": [
        {
          "output_type": "execute_result",
          "data": {
            "text/plain": [
              "[[1, 2, 3], [4, 5, 6, 7, 8], [9]]"
            ]
          },
          "metadata": {},
          "execution_count": 12
        }
      ]
    },
    {
      "cell_type": "code",
      "source": [],
      "metadata": {
        "id": "tur4pHUcIFZd"
      },
      "execution_count": null,
      "outputs": []
    },
    {
      "cell_type": "code",
      "source": [],
      "metadata": {
        "id": "Q607m2mzIFXb"
      },
      "execution_count": null,
      "outputs": []
    },
    {
      "cell_type": "code",
      "source": [],
      "metadata": {
        "id": "YCIEgxxAIE-g"
      },
      "execution_count": null,
      "outputs": []
    }
  ]
}