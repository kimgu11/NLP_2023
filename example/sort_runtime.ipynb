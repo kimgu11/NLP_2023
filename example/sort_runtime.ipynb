{
  "nbformat": 4,
  "nbformat_minor": 0,
  "metadata": {
    "colab": {
      "provenance": [],
      "include_colab_link": true
    },
    "kernelspec": {
      "name": "python3",
      "display_name": "Python 3"
    },
    "language_info": {
      "name": "python"
    }
  },
  "cells": [
    {
      "cell_type": "markdown",
      "metadata": {
        "id": "view-in-github",
        "colab_type": "text"
      },
      "source": [
        "<a href=\"https://colab.research.google.com/github/kimgu11/NLP_2023/blob/main/example/sort_runtime.ipynb\" target=\"_parent\"><img src=\"https://colab.research.google.com/assets/colab-badge.svg\" alt=\"Open In Colab\"/></a>"
      ]
    },
    {
      "cell_type": "code",
      "execution_count": null,
      "metadata": {
        "id": "IayBFmCejS7x"
      },
      "outputs": [],
      "source": [
        "import time\n",
        "import random\n",
        "import copy\n",
        "\n",
        "# 함수와 인자들을 받아서 func() 함수의 수행 시간을 측정\n",
        "def get_exec_time(func, *args, **kwargs):\n",
        "    start_time = time.time()\n",
        "    result = func(*args, **kwargs)\n",
        "    #print(result)\n",
        "    elapsed_time_ms = (time.time() - start_time) * 1000\n",
        "    return elapsed_time_ms"
      ]
    },
    {
      "cell_type": "code",
      "source": [
        "# NxM test set을 만든다.\n",
        "def generate_input(n, m):\n",
        "    T0 = [x for x in range(1, n + 1)]\n",
        "    T1 = list(reversed(T0))\n",
        "    result = [T0, T1]\n",
        "\n",
        "    for _ in range(M-2):\n",
        "        t = T0[:]\n",
        "        random.shuffle(t)\n",
        "        result.append(t)\n",
        "\n",
        "    return result"
      ],
      "metadata": {
        "id": "baqclR3rjjmq"
      },
      "execution_count": null,
      "outputs": []
    },
    {
      "cell_type": "code",
      "source": [
        "def bubble_sort(arr, n, print_process):\n",
        "    if print_process:\n",
        "        print(\"<Bubble Sort>\")\n",
        "        print(arr)\n",
        "\n",
        "    # for (int last = n-1; last > 0; last--)\n",
        "    for last in range(n-1, 0, -1):\n",
        "        for i in range(last):\n",
        "            if arr[i] > arr[i+1]:\n",
        "                tmp = arr[i]\n",
        "                arr[i] = arr[i+1]\n",
        "                arr[i+1] = tmp\n",
        "\n",
        "        if print_process:\n",
        "            print(arr)"
      ],
      "metadata": {
        "id": "zCO9MdzBjmLY"
      },
      "execution_count": null,
      "outputs": []
    },
    {
      "cell_type": "code",
      "source": [
        "def selection_sort(arr, n, print_process):\n",
        "    if print_process:\n",
        "        print(\"<Selection Sort>\")\n",
        "        print(arr)\n",
        "\n",
        "    for last in range(n-1, 0, -1):\n",
        "        max_val, max_idx = arr[0], 0\n",
        "        for i in range(1, last + 1):\n",
        "            if arr[i] > max_val:\n",
        "                max_val = arr[i]\n",
        "                max_idx = i\n",
        "\n",
        "        tmp = arr[last]\n",
        "        arr[last] = arr[max_idx]\n",
        "        arr[max_idx] = tmp\n",
        "\n",
        "        if print_process:\n",
        "            print(arr)"
      ],
      "metadata": {
        "id": "a_ZBEi7xNZ4X"
      },
      "execution_count": null,
      "outputs": []
    },
    {
      "cell_type": "code",
      "source": [
        "def insertion_sort(arr, n, print_process):\n",
        "    def _index_of(x):\n",
        "        for i in range(last+1):\n",
        "            if arr[i] > x:\n",
        "                return i\n",
        "\n",
        "        return None\n",
        "\n",
        "    if print_process:\n",
        "        print(\"<Insertion Sort>\")\n",
        "        print(arr)\n",
        "\n",
        "    for last in range(0, n-1):\n",
        "        # arr[last+1]을 arr[0..last]에 삽입\n",
        "        x = arr[last+1]\n",
        "        idx = _index_of(x)\n",
        "        if idx is not None:\n",
        "            # arr[1..last] arr[last+1..n-1] 에서 arr[last+1] (x)를 idx에 삽입한다.\n",
        "            for i in range(last+1, idx, -1):\n",
        "                arr[i] = arr[i-1]\n",
        "\n",
        "            arr[idx] = x\n",
        "\n",
        "        if print_process:\n",
        "            print(arr)\n"
      ],
      "metadata": {
        "id": "7MEtVkFyNepI"
      },
      "execution_count": null,
      "outputs": []
    },
    {
      "cell_type": "code",
      "source": [
        "N, M = map(int, input('N M = ').split())   #실행코드 크기 N 배열을 M개 만들어 정렬시간 테스트 선택정렬이 빠른 것을 확인 할 수 있음\n",
        "T = generate_input(N, M)\n",
        "is_small_set = N <= 10 and M <= 10\n",
        "if is_small_set:\n",
        "    print(\"<Test Set>\")\n",
        "    print(*T, sep='\\n')\n",
        "    print()\n",
        "\n",
        "sort_funcs = [bubble_sort, selection_sort, insertion_sort]\n",
        "for sort_func in sort_funcs:\n",
        "    T_cpy = copy.deepcopy(T)\n",
        "\n",
        "    if is_small_set:\n",
        "        for i in range(M):\n",
        "            print_process = is_small_set and i == 2\n",
        "            sort_func(T_cpy[i], N, print_process)\n",
        "        print()\n",
        "    else:\n",
        "        best, worst, total = None, None, 0\n",
        "        for i in range(M):\n",
        "            t = get_exec_time(sort_func, T_cpy[i], N, False)\n",
        "            best = t if i == 0 else min(best, t)\n",
        "            worst = t if i == 0 else max(worst, t)\n",
        "            total += t\n",
        "\n",
        "        average = total / M\n",
        "        print('<', sort_func.__name__, '>')\n",
        "        print('Best   :', best)\n",
        "        print('Worst  :', worst)\n",
        "        print('Average;', average)\n"
      ],
      "metadata": {
        "id": "UANVYcnWNhWG",
        "outputId": "28074955-ce91-46c9-f239-c9f0663fdd99",
        "colab": {
          "base_uri": "https://localhost:8080/"
        }
      },
      "execution_count": null,
      "outputs": [
        {
          "output_type": "stream",
          "name": "stdout",
          "text": [
            "N M = 1000 6\n",
            "< bubble_sort >\n",
            "Best   : 50.64892768859863\n",
            "Worst  : 119.84658241271973\n",
            "Average; 90.31295776367188\n",
            "< selection_sort >\n",
            "Best   : 31.533479690551758\n",
            "Worst  : 49.98207092285156\n",
            "Average; 36.85442606608073\n",
            "< insertion_sort >\n",
            "Best   : 33.61797332763672\n",
            "Worst  : 45.40252685546875\n",
            "Average; 40.058652559916176\n"
          ]
        }
      ]
    }
  ]
}