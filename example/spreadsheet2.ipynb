{
  "nbformat": 4,
  "nbformat_minor": 0,
  "metadata": {
    "colab": {
      "provenance": [],
      "authorship_tag": "ABX9TyNvnxiIUV3ZMME9rU1iToA2",
      "include_colab_link": true
    },
    "kernelspec": {
      "name": "python3",
      "display_name": "Python 3"
    },
    "language_info": {
      "name": "python"
    }
  },
  "cells": [
    {
      "cell_type": "markdown",
      "metadata": {
        "id": "view-in-github",
        "colab_type": "text"
      },
      "source": [
        "<a href=\"https://colab.research.google.com/github/kimgu11/NLP_2023/blob/main/example/spreadsheet2.ipynb\" target=\"_parent\"><img src=\"https://colab.research.google.com/assets/colab-badge.svg\" alt=\"Open In Colab\"/></a>"
      ]
    },
    {
      "cell_type": "code",
      "execution_count": 1,
      "metadata": {
        "id": "mguRx9e_sXwR"
      },
      "outputs": [],
      "source": [
        "from google.colab import auth\n",
        "auth.authenticate_user()\n",
        "\n",
        "import gspread\n",
        "from google.auth import default\n",
        "creds, _ = default()\n",
        "\n",
        "gc = gspread.authorize(creds)"
      ]
    },
    {
      "cell_type": "code",
      "source": [
        "sh = gc.open_by_key('13wNeb-_11Gc2dH20g9pnlD9SotiTV6_v6ptoLkK_fR0')"
      ],
      "metadata": {
        "id": "pmlgde_Gsdse"
      },
      "execution_count": 2,
      "outputs": []
    },
    {
      "cell_type": "code",
      "source": [
        "sh"
      ],
      "metadata": {
        "colab": {
          "base_uri": "https://localhost:8080/"
        },
        "id": "efDuxqITsuJ2",
        "outputId": "2a1bfcfa-cd24-4e23-fb93-8a07e4b9c671"
      },
      "execution_count": 3,
      "outputs": [
        {
          "output_type": "execute_result",
          "data": {
            "text/plain": [
              "<Spreadsheet 'game of life2' id:13wNeb-_11Gc2dH20g9pnlD9SotiTV6_v6ptoLkK_fR0>"
            ]
          },
          "metadata": {},
          "execution_count": 3
        }
      ]
    },
    {
      "cell_type": "code",
      "source": [
        "ws1 = sh.sheet1\n",
        "ws1"
      ],
      "metadata": {
        "colab": {
          "base_uri": "https://localhost:8080/"
        },
        "id": "5sVmFSElsv9j",
        "outputId": "f9f0f4bd-a0cf-499c-d536-cf2eb2b5e1b7"
      },
      "execution_count": 4,
      "outputs": [
        {
          "output_type": "execute_result",
          "data": {
            "text/plain": [
              "<Worksheet '시트1' id:0>"
            ]
          },
          "metadata": {},
          "execution_count": 4
        }
      ]
    },
    {
      "cell_type": "code",
      "source": [
        "ws1.format(\"A1:C3\", {\n",
        "    #\"backgroundColor\": {\"red\": 0.0, \"green\": 0.0, \"blue\": 0.0}\n",
        "    \"backgroundColor\":{r\"red\": 1.0, \"green\": 1.0, \"blue\": 1.0}\n",
        "})"
      ],
      "metadata": {
        "colab": {
          "base_uri": "https://localhost:8080/"
        },
        "id": "W3ZXiZ69s9nw",
        "outputId": "f73fbb97-aac3-4767-ef5b-0a82783d6294"
      },
      "execution_count": 5,
      "outputs": [
        {
          "output_type": "execute_result",
          "data": {
            "text/plain": [
              "{'spreadsheetId': '13wNeb-_11Gc2dH20g9pnlD9SotiTV6_v6ptoLkK_fR0',\n",
              " 'replies': [{}]}"
            ]
          },
          "metadata": {},
          "execution_count": 5
        }
      ]
    },
    {
      "cell_type": "code",
      "source": [
        "!pip install gspread-formatting"
      ],
      "metadata": {
        "colab": {
          "base_uri": "https://localhost:8080/"
        },
        "id": "CEJSdMb4tLEa",
        "outputId": "a65b035c-e706-4803-d817-04d54f80f051"
      },
      "execution_count": 6,
      "outputs": [
        {
          "output_type": "stream",
          "name": "stdout",
          "text": [
            "Collecting gspread-formatting\n",
            "  Downloading gspread_formatting-1.1.2-py2.py3-none-any.whl (22 kB)\n",
            "Requirement already satisfied: gspread>=3.0.0 in /usr/local/lib/python3.10/dist-packages (from gspread-formatting) (3.4.2)\n",
            "Requirement already satisfied: requests>=2.2.1 in /usr/local/lib/python3.10/dist-packages (from gspread>=3.0.0->gspread-formatting) (2.31.0)\n",
            "Requirement already satisfied: google-auth in /usr/local/lib/python3.10/dist-packages (from gspread>=3.0.0->gspread-formatting) (2.17.3)\n",
            "Requirement already satisfied: charset-normalizer<4,>=2 in /usr/local/lib/python3.10/dist-packages (from requests>=2.2.1->gspread>=3.0.0->gspread-formatting) (3.3.2)\n",
            "Requirement already satisfied: idna<4,>=2.5 in /usr/local/lib/python3.10/dist-packages (from requests>=2.2.1->gspread>=3.0.0->gspread-formatting) (3.4)\n",
            "Requirement already satisfied: urllib3<3,>=1.21.1 in /usr/local/lib/python3.10/dist-packages (from requests>=2.2.1->gspread>=3.0.0->gspread-formatting) (2.0.7)\n",
            "Requirement already satisfied: certifi>=2017.4.17 in /usr/local/lib/python3.10/dist-packages (from requests>=2.2.1->gspread>=3.0.0->gspread-formatting) (2023.7.22)\n",
            "Requirement already satisfied: cachetools<6.0,>=2.0.0 in /usr/local/lib/python3.10/dist-packages (from google-auth->gspread>=3.0.0->gspread-formatting) (5.3.2)\n",
            "Requirement already satisfied: pyasn1-modules>=0.2.1 in /usr/local/lib/python3.10/dist-packages (from google-auth->gspread>=3.0.0->gspread-formatting) (0.3.0)\n",
            "Requirement already satisfied: six>=1.9.0 in /usr/local/lib/python3.10/dist-packages (from google-auth->gspread>=3.0.0->gspread-formatting) (1.16.0)\n",
            "Requirement already satisfied: rsa<5,>=3.1.4 in /usr/local/lib/python3.10/dist-packages (from google-auth->gspread>=3.0.0->gspread-formatting) (4.9)\n",
            "Requirement already satisfied: pyasn1<0.6.0,>=0.4.6 in /usr/local/lib/python3.10/dist-packages (from pyasn1-modules>=0.2.1->google-auth->gspread>=3.0.0->gspread-formatting) (0.5.0)\n",
            "Installing collected packages: gspread-formatting\n",
            "Successfully installed gspread-formatting-1.1.2\n"
          ]
        }
      ]
    },
    {
      "cell_type": "code",
      "source": [
        "from gspread_formatting import *\n",
        "\n",
        "set_row_height(ws1, '1:600', 20)\n",
        "set_column_width(ws1, 'A:ZZ', 20)"
      ],
      "metadata": {
        "colab": {
          "base_uri": "https://localhost:8080/"
        },
        "id": "KYVxf5NMuEyf",
        "outputId": "e0cc4a55-ebe4-42f6-d851-475d6351f22e"
      },
      "execution_count": 7,
      "outputs": [
        {
          "output_type": "execute_result",
          "data": {
            "text/plain": [
              "{'spreadsheetId': '13wNeb-_11Gc2dH20g9pnlD9SotiTV6_v6ptoLkK_fR0',\n",
              " 'replies': [{}]}"
            ]
          },
          "metadata": {},
          "execution_count": 7
        }
      ]
    },
    {
      "cell_type": "code",
      "source": [
        "css = ws1.get_all_values()\n",
        "\n",
        "for row in css:\n",
        "  row.append('')\n",
        "css.append([''for _ in css[0]])\n",
        "\n",
        "css"
      ],
      "metadata": {
        "colab": {
          "base_uri": "https://localhost:8080/"
        },
        "id": "oH-ojdzTu6sv",
        "outputId": "ba5da73b-a90b-415d-9daf-76148eda72c5"
      },
      "execution_count": 9,
      "outputs": [
        {
          "output_type": "execute_result",
          "data": {
            "text/plain": [
              "[['', '', '', '', '', '', ''],\n",
              " ['', 'A', 'A', 'A', '', '', ''],\n",
              " ['', '', '', 'A', '', '', ''],\n",
              " ['', '', '', 'A', 'A', 'A', ''],\n",
              " ['', '', '', '', '', 'A', ''],\n",
              " ['', 'A', 'A', 'A', '', 'A', ''],\n",
              " ['', '', '', '', '', '', '']]"
            ]
          },
          "metadata": {},
          "execution_count": 9
        }
      ]
    },
    {
      "cell_type": "code",
      "source": [
        "css"
      ],
      "metadata": {
        "colab": {
          "base_uri": "https://localhost:8080/"
        },
        "id": "J3zPwj9cvOtr",
        "outputId": "23f51814-9120-481b-f5c7-aa18a3c7939b"
      },
      "execution_count": null,
      "outputs": [
        {
          "output_type": "execute_result",
          "data": {
            "text/plain": [
              "[['', '', '', '', '', '', ''],\n",
              " ['', 'A', 'A', 'A', '', '', ''],\n",
              " ['', '', '', 'A', '', '', ''],\n",
              " ['', '', '', 'A', 'A', 'A', ''],\n",
              " ['', '', '', '', '', 'A', ''],\n",
              " ['', 'A', 'A', '', '', 'A', ''],\n",
              " ['', '', '', '', '', '', '']]"
            ]
          },
          "metadata": {},
          "execution_count": 89
        }
      ]
    },
    {
      "cell_type": "code",
      "source": [
        "# i와 j는 css[i][j]를 정상적으로 참조할 수 있는 범위만 들어온다고 가정\n",
        "def aacells(css,i,j): # css[i][j]와 이웃하는 살아있는 세포의 개수\n",
        "  h = len(css)\n",
        "  w = len(css[0])\n",
        "  count = 0\n",
        "  if i+1 < h and 'A'==css[i+1][j]:\n",
        "    count += 1\n",
        "  if i>0 and 'A'==css[i-1][j]:\n",
        "    count += 1\n",
        "  if j+1 < w and 'A'==css[i][j+1]:\n",
        "    count += 1\n",
        "  if j>0 and 'A'==css[i][j-1]:\n",
        "    count += 1\n",
        "  if i+1 < h and j+1 < h and 'A'==css[i+1][j+1]:\n",
        "    count += 1\n",
        "  if i>0 and j+1 < w and 'A'==css[i-1][j+1]:\n",
        "    count += 1\n",
        "  if j>0 and i+1 < h and 'A'==css[i+1][j-1]:\n",
        "    count += 1\n",
        "  if i>0 and j>0 and 'A'==css[i-1][j-1]:\n",
        "    count += 1\n",
        "  return count"
      ],
      "metadata": {
        "id": "s-yqVVJXvXhA"
      },
      "execution_count": 10,
      "outputs": []
    },
    {
      "cell_type": "code",
      "source": [
        "# i와 j는 css[i][j]를 정상적으로 참조할 수 있는 범위만 들어온다고 가정\n",
        "def aacells(css,i,j): # css[i][j]와 이웃하는 살아있는 세포의 개수\n",
        "  h = len(css)\n",
        "  w = len(css[0])\n",
        "  count = 0\n",
        "  return len( [ 1 for y in [i-1,i,i+1] for x in [j-1,j,j+1]\n",
        "                  if (y,x)!=(i,j)\n",
        "                  if x in range(w) and y in range(h)\n",
        "                  if 'A' == css[y][x] ] )"
      ],
      "metadata": {
        "id": "3erwuGWbZAIw"
      },
      "execution_count": 11,
      "outputs": []
    },
    {
      "cell_type": "code",
      "source": [
        "aacells(css,4,6)"
      ],
      "metadata": {
        "colab": {
          "base_uri": "https://localhost:8080/"
        },
        "id": "21mYBQ_jbUrf",
        "outputId": "9e56ba62-07e4-4d5e-83b4-afd314ed7bcb"
      },
      "execution_count": 12,
      "outputs": [
        {
          "output_type": "execute_result",
          "data": {
            "text/plain": [
              "3"
            ]
          },
          "metadata": {},
          "execution_count": 12
        }
      ]
    },
    {
      "cell_type": "code",
      "source": [
        "# 라이프 게임 규칙에 따라 1회 진행\n",
        "for i in range(len(css)):\n",
        "  for j in range(len(css[0])):\n",
        "    n = aacells(css,i,j) # 내 주변에 살아있는 셀 개수\n",
        "    if 'A'==css[i][j]: # 살아있는 셀이\n",
        "      if not(2==n or n==3): # 죽는 경우\n",
        "        css[i][j] = ''\n",
        "    else: # 죽은 셀이\n",
        "      if 3 == n: # 태어나는 경우\n",
        "        css[i][j] = 'A'"
      ],
      "metadata": {
        "id": "07TYs3TFxtRz"
      },
      "execution_count": 14,
      "outputs": []
    },
    {
      "cell_type": "code",
      "source": [
        "css"
      ],
      "metadata": {
        "colab": {
          "base_uri": "https://localhost:8080/"
        },
        "id": "U2lIOiGAeURB",
        "outputId": "d9c88c4d-9fe5-42e2-d51b-ea34da2bcf4e"
      },
      "execution_count": 15,
      "outputs": [
        {
          "output_type": "execute_result",
          "data": {
            "text/plain": [
              "[['', '', 'A', 'A', 'A', '', ''],\n",
              " ['', '', 'A', '', 'A', 'A', ''],\n",
              " ['', '', '', 'A', '', '', 'A'],\n",
              " ['', '', '', 'A', 'A', '', 'A'],\n",
              " ['', 'A', '', '', 'A', '', ''],\n",
              " ['', 'A', '', 'A', 'A', '', ''],\n",
              " ['', '', 'A', 'A', 'A', '', '']]"
            ]
          },
          "metadata": {},
          "execution_count": 15
        }
      ]
    }
  ]
}