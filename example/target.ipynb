{
  "nbformat": 4,
  "nbformat_minor": 0,
  "metadata": {
    "colab": {
      "provenance": [],
      "authorship_tag": "ABX9TyNvZ5cJRmACUD4ogteYzPtP",
      "include_colab_link": true
    },
    "kernelspec": {
      "name": "python3",
      "display_name": "Python 3"
    },
    "language_info": {
      "name": "python"
    }
  },
  "cells": [
    {
      "cell_type": "markdown",
      "metadata": {
        "id": "view-in-github",
        "colab_type": "text"
      },
      "source": [
        "<a href=\"https://colab.research.google.com/github/kimgu11/NLP_2023/blob/main/example/target.ipynb\" target=\"_parent\"><img src=\"https://colab.research.google.com/assets/colab-badge.svg\" alt=\"Open In Colab\"/></a>"
      ]
    },
    {
      "cell_type": "markdown",
      "source": [
        "• 화살과 과녁의 거리가 절반씩 줄어든다고 생각하면 화살은 영원히 과녁에 다\n",
        "가간다.\n",
        "\n",
        "– 거리가 0.01보다 작아지면 과녁에 맞은 것으로 해 두자.\n",
        "\n",
        "– 4-1) 이 함수가 <거리가 절반으로 감소한 횟수>를 리턴하도록 수정해 보자.\n",
        "\n",
        "– 4-2) 이 함수를 반복문으로 바꿔 보자: shooting_iter() 작성\n"
      ],
      "metadata": {
        "id": "_XPR5c1qEehB"
      }
    },
    {
      "cell_type": "code",
      "execution_count": 1,
      "metadata": {
        "id": "XpmU09tuDY8Z"
      },
      "outputs": [],
      "source": [
        "def shooting_rec(distance_left):\n",
        "    if distance_left < 0.01:\n",
        "        print(\"과녁에 맞았습니다.\")\n",
        "        return\n",
        "    print(distance_left)\n",
        "    shooting_rec(distance_left / 2.0)"
      ]
    },
    {
      "cell_type": "code",
      "source": [
        "shooting_rec(70)"
      ],
      "metadata": {
        "colab": {
          "base_uri": "https://localhost:8080/"
        },
        "id": "KK2QaBbkDmXX",
        "outputId": "bc61ddd0-58a7-4803-87e4-f27521d8a9d8"
      },
      "execution_count": 2,
      "outputs": [
        {
          "output_type": "stream",
          "name": "stdout",
          "text": [
            "70\n",
            "35.0\n",
            "17.5\n",
            "8.75\n",
            "4.375\n",
            "2.1875\n",
            "1.09375\n",
            "0.546875\n",
            "0.2734375\n",
            "0.13671875\n",
            "0.068359375\n",
            "0.0341796875\n",
            "0.01708984375\n",
            "과녁에 맞았습니다.\n"
          ]
        }
      ]
    },
    {
      "cell_type": "code",
      "source": [
        "def shooting_iter(distance_left):\n",
        "    while distance_left > 0.01:\n",
        "        print(distance_left)\n",
        "        distance_left = distance_left / 2.0\n",
        "    print(\"과녁에 맞았습니다.\")\n",
        "    return"
      ],
      "metadata": {
        "id": "w42C66h4DoFh"
      },
      "execution_count": 3,
      "outputs": []
    },
    {
      "cell_type": "code",
      "source": [
        "shooting_iter(70)"
      ],
      "metadata": {
        "colab": {
          "base_uri": "https://localhost:8080/"
        },
        "id": "G9xUgyGiDpjX",
        "outputId": "a936d522-df8d-4bbf-d0ba-4bc5773b8512"
      },
      "execution_count": 4,
      "outputs": [
        {
          "output_type": "stream",
          "name": "stdout",
          "text": [
            "70\n",
            "35.0\n",
            "17.5\n",
            "8.75\n",
            "4.375\n",
            "2.1875\n",
            "1.09375\n",
            "0.546875\n",
            "0.2734375\n",
            "0.13671875\n",
            "0.068359375\n",
            "0.0341796875\n",
            "0.01708984375\n",
            "과녁에 맞았습니다.\n"
          ]
        }
      ]
    },
    {
      "cell_type": "code",
      "source": [
        "def shooting_half(distance_left, count):\n",
        "    if distance_left < 0.01:\n",
        "        return count\n",
        "    else:\n",
        "        count += 1\n",
        "        print(distance_left)\n",
        "        return shooting_half(distance_left / 2.0, count)"
      ],
      "metadata": {
        "id": "F0qQG83kDrBq"
      },
      "execution_count": 5,
      "outputs": []
    },
    {
      "cell_type": "code",
      "source": [
        "print(\"횟수 : \", shooting_half(70, 0), \"회\")"
      ],
      "metadata": {
        "colab": {
          "base_uri": "https://localhost:8080/"
        },
        "id": "F7osklEMDsrn",
        "outputId": "4ee9a8ac-32de-400a-d675-d653fa42e302"
      },
      "execution_count": 6,
      "outputs": [
        {
          "output_type": "stream",
          "name": "stdout",
          "text": [
            "70\n",
            "35.0\n",
            "17.5\n",
            "8.75\n",
            "4.375\n",
            "2.1875\n",
            "1.09375\n",
            "0.546875\n",
            "0.2734375\n",
            "0.13671875\n",
            "0.068359375\n",
            "0.0341796875\n",
            "0.01708984375\n",
            "횟수 :  13 회\n"
          ]
        }
      ]
    },
    {
      "cell_type": "code",
      "source": [],
      "metadata": {
        "id": "88_MvfQ4DvQZ"
      },
      "execution_count": null,
      "outputs": []
    }
  ]
}