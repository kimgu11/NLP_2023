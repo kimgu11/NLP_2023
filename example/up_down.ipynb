{
  "cells": [
    {
      "cell_type": "markdown",
      "metadata": {
        "id": "view-in-github",
        "colab_type": "text"
      },
      "source": [
        "<a href=\"https://colab.research.google.com/github/kimgu11/NLP_2023/blob/main/example/up_down.ipynb\" target=\"_parent\"><img src=\"https://colab.research.google.com/assets/colab-badge.svg\" alt=\"Open In Colab\"/></a>"
      ]
    },
    {
      "cell_type": "code",
      "execution_count": 1,
      "metadata": {
        "colab": {
          "base_uri": "https://localhost:8080/"
        },
        "id": "_SW0DV8xXbD2",
        "outputId": "20b11d3c-04d2-478a-f47b-3f07faae37e2"
      },
      "outputs": [
        {
          "name": "stdout",
          "output_type": "stream",
          "text": [
            "숫자 맞추기 게임\n",
            "1에서 100 사이의 숫자중 랜덤의 숫자를 맞추시오.\n",
            "숫자를 입력하세요: 50\n",
            "UP\n",
            "숫자를 입력하세요: 80\n",
            "DOWN\n",
            "숫자를 입력하세요: 60\n",
            "UP\n",
            "숫자를 입력하세요: 70\n",
            "UP\n",
            "숫자를 입력하세요: 75\n",
            "DOWN\n",
            "숫자를 입력하세요: 72\n",
            "UP\n",
            "숫자를 입력하세요: 74\n",
            "DOWN\n",
            "숫자를 입력하세요: 73\n",
            "정답! 8번 시도 성공.\n",
            "게임을 다시 하시겠습니까? (y/n): n\n"
          ]
        }
      ],
      "source": [
        "import random\n",
        "\n",
        "def guess_the_number():\n",
        "    print(\"숫자 맞추기 게임\")\n",
        "    print(\"1에서 100 사이의 숫자중 랜덤의 숫자를 맞추시오.\")\n",
        "\n",
        "    play_again = True\n",
        "\n",
        "    while play_again:\n",
        "        secret_number = random.randint(1, 100)\n",
        "\n",
        "        attempts = 0\n",
        "        while attempts < 10:\n",
        "            user_guess = int(input(\"숫자를 입력하세요: \"))\n",
        "            attempts += 1\n",
        "\n",
        "            if user_guess < secret_number:\n",
        "                print(\"UP\")\n",
        "            elif user_guess > secret_number:\n",
        "                print(\"DOWN\")\n",
        "            else:\n",
        "                print(f\"정답! {attempts}번 시도 성공.\")\n",
        "                break\n",
        "\n",
        "        if attempts == 5:\n",
        "            print(f\"실패 10번 안에 숫자를 맞추지 못했습니다. 정답은 {secret_number}입니다.\")\n",
        "\n",
        "        play_again = input(\"게임을 다시 하시겠습니까? (y/n): \").lower() == 'y'\n",
        "\n",
        "if __name__ == \"__main__\":\n",
        "    guess_the_number()\n"
      ]
    }
  ],
  "metadata": {
    "colab": {
      "provenance": [],
      "authorship_tag": "ABX9TyP7Qe8OUzSq6Xh8486bewE2",
      "include_colab_link": true
    },
    "kernelspec": {
      "display_name": "Python 3",
      "name": "python3"
    },
    "language_info": {
      "name": "python"
    }
  },
  "nbformat": 4,
  "nbformat_minor": 0
}