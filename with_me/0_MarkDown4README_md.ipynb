{
  "nbformat": 4,
  "nbformat_minor": 0,
  "metadata": {
    "colab": {
      "provenance": [],
      "include_colab_link": true
    },
    "kernelspec": {
      "name": "python3",
      "display_name": "Python 3"
    },
    "language_info": {
      "name": "python"
    }
  },
  "cells": [
    {
      "cell_type": "markdown",
      "metadata": {
        "id": "view-in-github",
        "colab_type": "text"
      },
      "source": [
        "<a href=\"https://colab.research.google.com/github/kimgu11/NLP_2023/blob/main/with_me/0_MarkDown4README_md.ipynb\" target=\"_parent\"><img src=\"https://colab.research.google.com/assets/colab-badge.svg\" alt=\"Open In Colab\"/></a>"
      ]
    },
    {
      "cell_type": "markdown",
      "source": [
        "# ✂️✏️📌 **How to Use <font color = 'red'> Markdown Language**\n",
        "* ## For <font color = 'orange'> more syntax</font> of markdown langauge, [Click here.](https://www.markdownguide.org/basic-syntax/)\n"
      ],
      "metadata": {
        "id": "nFyrb7heQOTL"
      }
    },
    {
      "cell_type": "markdown",
      "source": [
        "# ✂️✏️📌 **How to Use <font color = 'red'> Markdown Language**\n",
        "\n",
        "* 파운드 사인(#)은 보기 쉽게 글씨크기를 최대로 해주는 명령어임\n",
        "* (****)을 이용하면 글씨를 굵게 만들 수 있음\n",
        "* (<font color = '~')를 이용하면 글씨의 색을 설정할 수 있다.\n",
        "\n",
        "# How to <font color = 'green'> Use </font> **Markdown Language**\n",
        "# How to <font color = 'blue'> Use </font> **Markdown Language**\n",
        "# How to <font color = 'orange'> Use </font> **Markdown Language**\n",
        "# How to <font color = 'brown'> Use </font> **Markdown Language**\n",
        "# How to <font color = 'red'> Use </font> **Markdown Language**\n",
        "* ## For<font color = 'green'> more funny vidoes</font>, [click here](https://www.youtube.com/shorts)\n",
        "\n",
        "* ## For <font color = 'orange'> more syntax</font> of markdown langauge, [Click here.](https://www.markdownguide.org/basic-syntax/)"
      ],
      "metadata": {
        "id": "HRlwLccsY0z6"
      }
    },
    {
      "cell_type": "markdown",
      "source": [
        "# NLP_2023\n",
        "# 🐹🍦 **Python Language** 🐋🐇🐆\n",
        "\n",
        "## **Learning Python** using **Colab** ([Visit Colab homepage](https://colab.research.google.com/?utm_source=scs-index)) and **Github** ([Visit Github homepage](https://github.com/))\n",
        "\n",
        "### **1. Sign up github** ([Visit a tutorial on Youtube](https://www.youtube.com/watch?v=c-NikCpec7U))\n",
        "### **2. Sign up Google Colaboratory** (aka. Colab) ([Visit a tutorial on Youtube](https://www.youtube.com/watch?v=2X_EU18OeYM))\n",
        "\n",
        "### **3. Useful References**\n",
        "- 교과서는 어떤것으로 사용하나요?\n",
        "* 별표 사용해도 되나요?\n",
        "- Exercises 200 파이썬200제 by 장삼용. 정보문화사 2017\n",
        "- [Jump to Python](https://wikidocs.net/book/1)\n",
        "- [wikidocs for nltk](https://wikidocs.net/21667)\n",
        "\n",
        "### **4. Markdown Language**\n",
        "* [Emoji](https://gist.github.com/rxaviers/7360908)\n",
        "* [Markdown syntax](https://www.markdownguide.org/basic-syntax/)\n",
        "\n",
        "### **5. Class Materials**\n",
        "| # | seassions | Keywords |\n",
        "|:--:|:--:|:--:|\n",
        "| 1 | code cells 🐾 | [variable, assign](https://github.com/kimgu11/NLP_2023/blob/main/example/1_CodeCells_Basic.ipynb) |  \n",
        "| 2 | Five Types of Data 📋| [number, string, list, tuple, dictionary](https://github.com/ms624atyale/NLP_2023/blob/main/2_FiveTypesofData.ipynb)|\n",
        "| 3 | Indexing & Slicing 📌✂️ | [:, 0, -1, link +, repeat *, length len](https://github.com/ms624atyale/NLP_2023/blob/main/3_Indexing_Slicing.ipynb)|\n",
        "\n",
        "### **6. 시간표**\n",
        "| 월 | 화 | 목 | 주말 |\n",
        "|:--:|:--:|:--:|:--:|\n",
        "| 확률과 통계 | 시네마 영어 연습 | 시네마 영어 연습| 숙면 |\n",
        "| 공강 | 디지털 인문학 | 디지털 인문학 | 숙면 |\n",
        "| 공강 | 미디어리터러시와 비판적 사고 | 미디어 리터러시와 비판적 사고 | 숙면 |\n",
        "| 공강 | 문학과 영상의 만남 | 문학과 영상의 만남 | 숙면 |"
      ],
      "metadata": {
        "id": "OtctgkT2NOCS"
      }
    }
  ]
}